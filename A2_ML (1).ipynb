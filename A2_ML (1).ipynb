{
  "cells": [
    {
      "cell_type": "code",
      "execution_count": 10,
      "metadata": {
        "id": "YCm-SQdOBmIs"
      },
      "outputs": [],
      "source": [
        "import pandas as pd \n",
        "import numpy as np\n"
      ]
    },
    {
      "cell_type": "code",
      "execution_count": 11,
      "metadata": {
        "id": "UqDobYlpDO4I"
      },
      "outputs": [],
      "source": [
        "import zipfile\n",
        "zip_ref = zipfile.ZipFile(\"/content/ieee-fraud-detection.zip\", 'r')\n",
        "zip_ref.extractall()\n",
        "\n",
        "\n",
        "df1 = pd.read_csv(\"/content/data_identity.csv\")\n",
        "df2 = pd.read_csv(\"/content/data_transaction.csv\")\n"
      ]
    },
    {
      "cell_type": "markdown",
      "metadata": {
        "id": "OC_OZNgEU-Lm"
      },
      "source": [
        "#### Prepare dataframes and join them and split into train - test"
      ]
    },
    {
      "cell_type": "code",
      "execution_count": 12,
      "metadata": {
        "id": "1e8--OHnD4WI",
        "colab": {
          "base_uri": "https://localhost:8080/"
        },
        "outputId": "0dd1fffc-ee21-4e4d-d64f-8aea2b722503"
      },
      "outputs": [
        {
          "output_type": "stream",
          "name": "stdout",
          "text": [
            "TransactionID    0.000000\n",
            "id_01            0.000000\n",
            "id_02            0.023303\n",
            "id_03            0.540161\n",
            "id_04            0.540161\n",
            "id_05            0.051084\n",
            "id_06            0.051084\n",
            "id_07            0.964259\n",
            "id_08            0.964259\n",
            "id_09            0.480521\n",
            "id_10            0.480521\n",
            "id_11            0.022568\n",
            "id_12            0.000000\n",
            "id_13            0.117262\n",
            "id_14            0.445037\n",
            "id_15            0.022519\n",
            "id_16            0.103257\n",
            "id_17            0.033723\n",
            "id_18            0.687221\n",
            "id_19            0.034077\n",
            "id_20            0.034472\n",
            "id_21            0.964231\n",
            "id_22            0.964162\n",
            "id_23            0.964162\n",
            "id_24            0.967088\n",
            "id_25            0.964419\n",
            "id_26            0.964204\n",
            "id_27            0.964162\n",
            "id_28            0.022568\n",
            "id_29            0.022568\n",
            "id_30            0.462224\n",
            "id_31            0.027393\n",
            "id_32            0.462079\n",
            "id_33            0.491871\n",
            "id_34            0.460560\n",
            "id_35            0.022519\n",
            "id_36            0.022519\n",
            "id_37            0.022519\n",
            "id_38            0.022519\n",
            "DeviceType       0.023732\n",
            "DeviceInfo       0.177262\n",
            "dtype: float64\n",
            "(144233, 41)\n"
          ]
        }
      ],
      "source": [
        "print(df1.isna().sum()/len(df1))\n",
        "print(df1.shape)"
      ]
    },
    {
      "cell_type": "markdown",
      "metadata": {
        "id": "YcSDXU9G8Zc0"
      },
      "source": [
        "##### 1.1 select features:"
      ]
    },
    {
      "cell_type": "code",
      "execution_count": 13,
      "metadata": {
        "id": "xs_KvZVt8XhC"
      },
      "outputs": [],
      "source": [
        "def getNewData(X,nan_percent):\n",
        "  \"\"\"create new df without features with numbers of nan > nan_percent \"\"\"\n",
        "  cols = X.columns\n",
        "  percents_err =  list(X.isna().sum()/len(X))\n",
        "  ind = [i for i in range(len(percents_err)) if percents_err[i]< nan_percent]\n",
        "  return X[cols[ind]]\n",
        "\n",
        "df1 =  getNewData(df1,0.2)\n",
        "df2 =  getNewData(df2,0.2)\n"
      ]
    },
    {
      "cell_type": "code",
      "execution_count": 13,
      "metadata": {
        "id": "pXcoV2L--gte"
      },
      "outputs": [],
      "source": [
        ""
      ]
    },
    {
      "cell_type": "code",
      "execution_count": 14,
      "metadata": {
        "id": "y1oyexteMnvq"
      },
      "outputs": [],
      "source": [
        "from sklearn.model_selection import train_test_split\n",
        "\n",
        "FULL_ZZY_df = df2.set_index('TransactionID').join(df1.set_index('TransactionID')).iloc[:50000]\n",
        "#assert df2.shape[0] == FULL_ZZY_df.shape[0] \n",
        "#assert df2.shape[1] + df1.shape[1] - 2 == FULL_ZZY_df.shape[1] \n",
        "\n",
        "y = FULL_ZZY_df.isFraud\n",
        "X = FULL_ZZY_df.drop(columns = 'isFraud')\n",
        "X_train, X_test, y_train, y_test = train_test_split( X, y, test_size=0.2, random_state=42)\n",
        "\n",
        "assert sum(y_test) / sum(y) <0.3 \n",
        "assert sum(y_test) / sum(y) > 0.1\n",
        "del y \n",
        "del X"
      ]
    },
    {
      "cell_type": "code",
      "execution_count": 15,
      "metadata": {
        "id": "EefX99ylXAuV",
        "colab": {
          "base_uri": "https://localhost:8080/",
          "height": 588
        },
        "outputId": "fa28e664-4ebb-4f0f-cb80-830c4a70e716"
      },
      "outputs": [
        {
          "output_type": "execute_result",
          "data": {
            "text/plain": [
              "               TransactionDT  TransactionAmt ProductCD  card1  card2  card3  \\\n",
              "TransactionID                                                                 \n",
              "3026087               952487          107.95         W  17400  174.0  150.0   \n",
              "3017893               768834           25.00         S  13366  437.0  150.0   \n",
              "3032278              1095411           30.00         H   1724  583.0  150.0   \n",
              "3003398               435419          644.95         W  11106  100.0  150.0   \n",
              "3000653               400238          100.00         W   9002  453.0  150.0   \n",
              "...                      ...             ...       ...    ...    ...    ...   \n",
              "2998284               334813          280.00         W  12501  490.0  150.0   \n",
              "3031732              1086378          140.47         W  12695  490.0  150.0   \n",
              "3025158               940430          115.00         W  11839  490.0  150.0   \n",
              "2987860               106074           47.95         W  15497  490.0  150.0   \n",
              "3002795               427776          275.97         W   1761  383.0  150.0   \n",
              "\n",
              "              card4  card5   card6  addr1  ...  id_20  id_28  id_29  \\\n",
              "TransactionID                              ...                        \n",
              "3026087        visa  226.0   debit  123.0  ...    NaN    NaN    NaN   \n",
              "3017893        visa  226.0   debit  337.0  ...  368.0  Found  Found   \n",
              "3032278        visa  226.0  credit  420.0  ...  144.0  Found  Found   \n",
              "3003398        visa  226.0  credit  337.0  ...    NaN    NaN    NaN   \n",
              "3000653        visa  226.0   debit  325.0  ...    NaN    NaN    NaN   \n",
              "...             ...    ...     ...    ...  ...    ...    ...    ...   \n",
              "2998284        visa  226.0   debit  204.0  ...    NaN    NaN    NaN   \n",
              "3031732        visa  226.0   debit  387.0  ...    NaN    NaN    NaN   \n",
              "3025158        visa  226.0   debit  512.0  ...    NaN    NaN    NaN   \n",
              "2987860        visa  226.0   debit  299.0  ...    NaN    NaN    NaN   \n",
              "3002795        visa  226.0   debit  498.0  ...    NaN    NaN    NaN   \n",
              "\n",
              "                                 id_31  id_35  id_36  id_37  id_38  \\\n",
              "TransactionID                                                        \n",
              "3026087                            NaN    NaN    NaN    NaN    NaN   \n",
              "3017893        chrome 61.0 for android      T      F      T      T   \n",
              "3032278                    chrome 62.0      T      F      T      T   \n",
              "3003398                            NaN    NaN    NaN    NaN    NaN   \n",
              "3000653                            NaN    NaN    NaN    NaN    NaN   \n",
              "...                                ...    ...    ...    ...    ...   \n",
              "2998284                            NaN    NaN    NaN    NaN    NaN   \n",
              "3031732                            NaN    NaN    NaN    NaN    NaN   \n",
              "3025158                            NaN    NaN    NaN    NaN    NaN   \n",
              "2987860                            NaN    NaN    NaN    NaN    NaN   \n",
              "3002795                            NaN    NaN    NaN    NaN    NaN   \n",
              "\n",
              "               DeviceType            DeviceInfo  \n",
              "TransactionID                                    \n",
              "3026087               NaN                   NaN  \n",
              "3017893            mobile  LGLS775 Build/NRD90U  \n",
              "3032278           desktop               Windows  \n",
              "3003398               NaN                   NaN  \n",
              "3000653               NaN                   NaN  \n",
              "...                   ...                   ...  \n",
              "2998284               NaN                   NaN  \n",
              "3031732               NaN                   NaN  \n",
              "3025158               NaN                   NaN  \n",
              "2987860               NaN                   NaN  \n",
              "3002795               NaN                   NaN  \n",
              "\n",
              "[40000 rows x 201 columns]"
            ],
            "text/html": [
              "\n",
              "  <div id=\"df-302799f5-56c3-4ad4-ba74-261a8523bfaa\">\n",
              "    <div class=\"colab-df-container\">\n",
              "      <div>\n",
              "<style scoped>\n",
              "    .dataframe tbody tr th:only-of-type {\n",
              "        vertical-align: middle;\n",
              "    }\n",
              "\n",
              "    .dataframe tbody tr th {\n",
              "        vertical-align: top;\n",
              "    }\n",
              "\n",
              "    .dataframe thead th {\n",
              "        text-align: right;\n",
              "    }\n",
              "</style>\n",
              "<table border=\"1\" class=\"dataframe\">\n",
              "  <thead>\n",
              "    <tr style=\"text-align: right;\">\n",
              "      <th></th>\n",
              "      <th>TransactionDT</th>\n",
              "      <th>TransactionAmt</th>\n",
              "      <th>ProductCD</th>\n",
              "      <th>card1</th>\n",
              "      <th>card2</th>\n",
              "      <th>card3</th>\n",
              "      <th>card4</th>\n",
              "      <th>card5</th>\n",
              "      <th>card6</th>\n",
              "      <th>addr1</th>\n",
              "      <th>...</th>\n",
              "      <th>id_20</th>\n",
              "      <th>id_28</th>\n",
              "      <th>id_29</th>\n",
              "      <th>id_31</th>\n",
              "      <th>id_35</th>\n",
              "      <th>id_36</th>\n",
              "      <th>id_37</th>\n",
              "      <th>id_38</th>\n",
              "      <th>DeviceType</th>\n",
              "      <th>DeviceInfo</th>\n",
              "    </tr>\n",
              "    <tr>\n",
              "      <th>TransactionID</th>\n",
              "      <th></th>\n",
              "      <th></th>\n",
              "      <th></th>\n",
              "      <th></th>\n",
              "      <th></th>\n",
              "      <th></th>\n",
              "      <th></th>\n",
              "      <th></th>\n",
              "      <th></th>\n",
              "      <th></th>\n",
              "      <th></th>\n",
              "      <th></th>\n",
              "      <th></th>\n",
              "      <th></th>\n",
              "      <th></th>\n",
              "      <th></th>\n",
              "      <th></th>\n",
              "      <th></th>\n",
              "      <th></th>\n",
              "      <th></th>\n",
              "      <th></th>\n",
              "    </tr>\n",
              "  </thead>\n",
              "  <tbody>\n",
              "    <tr>\n",
              "      <th>3026087</th>\n",
              "      <td>952487</td>\n",
              "      <td>107.95</td>\n",
              "      <td>W</td>\n",
              "      <td>17400</td>\n",
              "      <td>174.0</td>\n",
              "      <td>150.0</td>\n",
              "      <td>visa</td>\n",
              "      <td>226.0</td>\n",
              "      <td>debit</td>\n",
              "      <td>123.0</td>\n",
              "      <td>...</td>\n",
              "      <td>NaN</td>\n",
              "      <td>NaN</td>\n",
              "      <td>NaN</td>\n",
              "      <td>NaN</td>\n",
              "      <td>NaN</td>\n",
              "      <td>NaN</td>\n",
              "      <td>NaN</td>\n",
              "      <td>NaN</td>\n",
              "      <td>NaN</td>\n",
              "      <td>NaN</td>\n",
              "    </tr>\n",
              "    <tr>\n",
              "      <th>3017893</th>\n",
              "      <td>768834</td>\n",
              "      <td>25.00</td>\n",
              "      <td>S</td>\n",
              "      <td>13366</td>\n",
              "      <td>437.0</td>\n",
              "      <td>150.0</td>\n",
              "      <td>visa</td>\n",
              "      <td>226.0</td>\n",
              "      <td>debit</td>\n",
              "      <td>337.0</td>\n",
              "      <td>...</td>\n",
              "      <td>368.0</td>\n",
              "      <td>Found</td>\n",
              "      <td>Found</td>\n",
              "      <td>chrome 61.0 for android</td>\n",
              "      <td>T</td>\n",
              "      <td>F</td>\n",
              "      <td>T</td>\n",
              "      <td>T</td>\n",
              "      <td>mobile</td>\n",
              "      <td>LGLS775 Build/NRD90U</td>\n",
              "    </tr>\n",
              "    <tr>\n",
              "      <th>3032278</th>\n",
              "      <td>1095411</td>\n",
              "      <td>30.00</td>\n",
              "      <td>H</td>\n",
              "      <td>1724</td>\n",
              "      <td>583.0</td>\n",
              "      <td>150.0</td>\n",
              "      <td>visa</td>\n",
              "      <td>226.0</td>\n",
              "      <td>credit</td>\n",
              "      <td>420.0</td>\n",
              "      <td>...</td>\n",
              "      <td>144.0</td>\n",
              "      <td>Found</td>\n",
              "      <td>Found</td>\n",
              "      <td>chrome 62.0</td>\n",
              "      <td>T</td>\n",
              "      <td>F</td>\n",
              "      <td>T</td>\n",
              "      <td>T</td>\n",
              "      <td>desktop</td>\n",
              "      <td>Windows</td>\n",
              "    </tr>\n",
              "    <tr>\n",
              "      <th>3003398</th>\n",
              "      <td>435419</td>\n",
              "      <td>644.95</td>\n",
              "      <td>W</td>\n",
              "      <td>11106</td>\n",
              "      <td>100.0</td>\n",
              "      <td>150.0</td>\n",
              "      <td>visa</td>\n",
              "      <td>226.0</td>\n",
              "      <td>credit</td>\n",
              "      <td>337.0</td>\n",
              "      <td>...</td>\n",
              "      <td>NaN</td>\n",
              "      <td>NaN</td>\n",
              "      <td>NaN</td>\n",
              "      <td>NaN</td>\n",
              "      <td>NaN</td>\n",
              "      <td>NaN</td>\n",
              "      <td>NaN</td>\n",
              "      <td>NaN</td>\n",
              "      <td>NaN</td>\n",
              "      <td>NaN</td>\n",
              "    </tr>\n",
              "    <tr>\n",
              "      <th>3000653</th>\n",
              "      <td>400238</td>\n",
              "      <td>100.00</td>\n",
              "      <td>W</td>\n",
              "      <td>9002</td>\n",
              "      <td>453.0</td>\n",
              "      <td>150.0</td>\n",
              "      <td>visa</td>\n",
              "      <td>226.0</td>\n",
              "      <td>debit</td>\n",
              "      <td>325.0</td>\n",
              "      <td>...</td>\n",
              "      <td>NaN</td>\n",
              "      <td>NaN</td>\n",
              "      <td>NaN</td>\n",
              "      <td>NaN</td>\n",
              "      <td>NaN</td>\n",
              "      <td>NaN</td>\n",
              "      <td>NaN</td>\n",
              "      <td>NaN</td>\n",
              "      <td>NaN</td>\n",
              "      <td>NaN</td>\n",
              "    </tr>\n",
              "    <tr>\n",
              "      <th>...</th>\n",
              "      <td>...</td>\n",
              "      <td>...</td>\n",
              "      <td>...</td>\n",
              "      <td>...</td>\n",
              "      <td>...</td>\n",
              "      <td>...</td>\n",
              "      <td>...</td>\n",
              "      <td>...</td>\n",
              "      <td>...</td>\n",
              "      <td>...</td>\n",
              "      <td>...</td>\n",
              "      <td>...</td>\n",
              "      <td>...</td>\n",
              "      <td>...</td>\n",
              "      <td>...</td>\n",
              "      <td>...</td>\n",
              "      <td>...</td>\n",
              "      <td>...</td>\n",
              "      <td>...</td>\n",
              "      <td>...</td>\n",
              "      <td>...</td>\n",
              "    </tr>\n",
              "    <tr>\n",
              "      <th>2998284</th>\n",
              "      <td>334813</td>\n",
              "      <td>280.00</td>\n",
              "      <td>W</td>\n",
              "      <td>12501</td>\n",
              "      <td>490.0</td>\n",
              "      <td>150.0</td>\n",
              "      <td>visa</td>\n",
              "      <td>226.0</td>\n",
              "      <td>debit</td>\n",
              "      <td>204.0</td>\n",
              "      <td>...</td>\n",
              "      <td>NaN</td>\n",
              "      <td>NaN</td>\n",
              "      <td>NaN</td>\n",
              "      <td>NaN</td>\n",
              "      <td>NaN</td>\n",
              "      <td>NaN</td>\n",
              "      <td>NaN</td>\n",
              "      <td>NaN</td>\n",
              "      <td>NaN</td>\n",
              "      <td>NaN</td>\n",
              "    </tr>\n",
              "    <tr>\n",
              "      <th>3031732</th>\n",
              "      <td>1086378</td>\n",
              "      <td>140.47</td>\n",
              "      <td>W</td>\n",
              "      <td>12695</td>\n",
              "      <td>490.0</td>\n",
              "      <td>150.0</td>\n",
              "      <td>visa</td>\n",
              "      <td>226.0</td>\n",
              "      <td>debit</td>\n",
              "      <td>387.0</td>\n",
              "      <td>...</td>\n",
              "      <td>NaN</td>\n",
              "      <td>NaN</td>\n",
              "      <td>NaN</td>\n",
              "      <td>NaN</td>\n",
              "      <td>NaN</td>\n",
              "      <td>NaN</td>\n",
              "      <td>NaN</td>\n",
              "      <td>NaN</td>\n",
              "      <td>NaN</td>\n",
              "      <td>NaN</td>\n",
              "    </tr>\n",
              "    <tr>\n",
              "      <th>3025158</th>\n",
              "      <td>940430</td>\n",
              "      <td>115.00</td>\n",
              "      <td>W</td>\n",
              "      <td>11839</td>\n",
              "      <td>490.0</td>\n",
              "      <td>150.0</td>\n",
              "      <td>visa</td>\n",
              "      <td>226.0</td>\n",
              "      <td>debit</td>\n",
              "      <td>512.0</td>\n",
              "      <td>...</td>\n",
              "      <td>NaN</td>\n",
              "      <td>NaN</td>\n",
              "      <td>NaN</td>\n",
              "      <td>NaN</td>\n",
              "      <td>NaN</td>\n",
              "      <td>NaN</td>\n",
              "      <td>NaN</td>\n",
              "      <td>NaN</td>\n",
              "      <td>NaN</td>\n",
              "      <td>NaN</td>\n",
              "    </tr>\n",
              "    <tr>\n",
              "      <th>2987860</th>\n",
              "      <td>106074</td>\n",
              "      <td>47.95</td>\n",
              "      <td>W</td>\n",
              "      <td>15497</td>\n",
              "      <td>490.0</td>\n",
              "      <td>150.0</td>\n",
              "      <td>visa</td>\n",
              "      <td>226.0</td>\n",
              "      <td>debit</td>\n",
              "      <td>299.0</td>\n",
              "      <td>...</td>\n",
              "      <td>NaN</td>\n",
              "      <td>NaN</td>\n",
              "      <td>NaN</td>\n",
              "      <td>NaN</td>\n",
              "      <td>NaN</td>\n",
              "      <td>NaN</td>\n",
              "      <td>NaN</td>\n",
              "      <td>NaN</td>\n",
              "      <td>NaN</td>\n",
              "      <td>NaN</td>\n",
              "    </tr>\n",
              "    <tr>\n",
              "      <th>3002795</th>\n",
              "      <td>427776</td>\n",
              "      <td>275.97</td>\n",
              "      <td>W</td>\n",
              "      <td>1761</td>\n",
              "      <td>383.0</td>\n",
              "      <td>150.0</td>\n",
              "      <td>visa</td>\n",
              "      <td>226.0</td>\n",
              "      <td>debit</td>\n",
              "      <td>498.0</td>\n",
              "      <td>...</td>\n",
              "      <td>NaN</td>\n",
              "      <td>NaN</td>\n",
              "      <td>NaN</td>\n",
              "      <td>NaN</td>\n",
              "      <td>NaN</td>\n",
              "      <td>NaN</td>\n",
              "      <td>NaN</td>\n",
              "      <td>NaN</td>\n",
              "      <td>NaN</td>\n",
              "      <td>NaN</td>\n",
              "    </tr>\n",
              "  </tbody>\n",
              "</table>\n",
              "<p>40000 rows × 201 columns</p>\n",
              "</div>\n",
              "      <button class=\"colab-df-convert\" onclick=\"convertToInteractive('df-302799f5-56c3-4ad4-ba74-261a8523bfaa')\"\n",
              "              title=\"Convert this dataframe to an interactive table.\"\n",
              "              style=\"display:none;\">\n",
              "        \n",
              "  <svg xmlns=\"http://www.w3.org/2000/svg\" height=\"24px\"viewBox=\"0 0 24 24\"\n",
              "       width=\"24px\">\n",
              "    <path d=\"M0 0h24v24H0V0z\" fill=\"none\"/>\n",
              "    <path d=\"M18.56 5.44l.94 2.06.94-2.06 2.06-.94-2.06-.94-.94-2.06-.94 2.06-2.06.94zm-11 1L8.5 8.5l.94-2.06 2.06-.94-2.06-.94L8.5 2.5l-.94 2.06-2.06.94zm10 10l.94 2.06.94-2.06 2.06-.94-2.06-.94-.94-2.06-.94 2.06-2.06.94z\"/><path d=\"M17.41 7.96l-1.37-1.37c-.4-.4-.92-.59-1.43-.59-.52 0-1.04.2-1.43.59L10.3 9.45l-7.72 7.72c-.78.78-.78 2.05 0 2.83L4 21.41c.39.39.9.59 1.41.59.51 0 1.02-.2 1.41-.59l7.78-7.78 2.81-2.81c.8-.78.8-2.07 0-2.86zM5.41 20L4 18.59l7.72-7.72 1.47 1.35L5.41 20z\"/>\n",
              "  </svg>\n",
              "      </button>\n",
              "      \n",
              "  <style>\n",
              "    .colab-df-container {\n",
              "      display:flex;\n",
              "      flex-wrap:wrap;\n",
              "      gap: 12px;\n",
              "    }\n",
              "\n",
              "    .colab-df-convert {\n",
              "      background-color: #E8F0FE;\n",
              "      border: none;\n",
              "      border-radius: 50%;\n",
              "      cursor: pointer;\n",
              "      display: none;\n",
              "      fill: #1967D2;\n",
              "      height: 32px;\n",
              "      padding: 0 0 0 0;\n",
              "      width: 32px;\n",
              "    }\n",
              "\n",
              "    .colab-df-convert:hover {\n",
              "      background-color: #E2EBFA;\n",
              "      box-shadow: 0px 1px 2px rgba(60, 64, 67, 0.3), 0px 1px 3px 1px rgba(60, 64, 67, 0.15);\n",
              "      fill: #174EA6;\n",
              "    }\n",
              "\n",
              "    [theme=dark] .colab-df-convert {\n",
              "      background-color: #3B4455;\n",
              "      fill: #D2E3FC;\n",
              "    }\n",
              "\n",
              "    [theme=dark] .colab-df-convert:hover {\n",
              "      background-color: #434B5C;\n",
              "      box-shadow: 0px 1px 3px 1px rgba(0, 0, 0, 0.15);\n",
              "      filter: drop-shadow(0px 1px 2px rgba(0, 0, 0, 0.3));\n",
              "      fill: #FFFFFF;\n",
              "    }\n",
              "  </style>\n",
              "\n",
              "      <script>\n",
              "        const buttonEl =\n",
              "          document.querySelector('#df-302799f5-56c3-4ad4-ba74-261a8523bfaa button.colab-df-convert');\n",
              "        buttonEl.style.display =\n",
              "          google.colab.kernel.accessAllowed ? 'block' : 'none';\n",
              "\n",
              "        async function convertToInteractive(key) {\n",
              "          const element = document.querySelector('#df-302799f5-56c3-4ad4-ba74-261a8523bfaa');\n",
              "          const dataTable =\n",
              "            await google.colab.kernel.invokeFunction('convertToInteractive',\n",
              "                                                     [key], {});\n",
              "          if (!dataTable) return;\n",
              "\n",
              "          const docLinkHtml = 'Like what you see? Visit the ' +\n",
              "            '<a target=\"_blank\" href=https://colab.research.google.com/notebooks/data_table.ipynb>data table notebook</a>'\n",
              "            + ' to learn more about interactive tables.';\n",
              "          element.innerHTML = '';\n",
              "          dataTable['output_type'] = 'display_data';\n",
              "          await google.colab.output.renderOutput(dataTable, element);\n",
              "          const docLink = document.createElement('div');\n",
              "          docLink.innerHTML = docLinkHtml;\n",
              "          element.appendChild(docLink);\n",
              "        }\n",
              "      </script>\n",
              "    </div>\n",
              "  </div>\n",
              "  "
            ]
          },
          "metadata": {},
          "execution_count": 15
        }
      ],
      "source": [
        "# create indicator \n",
        "X_train"
      ]
    },
    {
      "cell_type": "code",
      "execution_count": 16,
      "metadata": {
        "id": "4P4Mqy2T3__n"
      },
      "outputs": [],
      "source": [
        "ind_obj = np.where((X_train.dtypes == object) == True)\n",
        "LENS = []\n",
        "for i in range(ind_obj[0].shape[0]):\n",
        "  LENS.append(pd.get_dummies(X_train[X_train.columns[ind_obj[0][i]]]).shape[1])"
      ]
    },
    {
      "cell_type": "code",
      "execution_count": 17,
      "metadata": {
        "id": "tMnlp4qF8uuu"
      },
      "outputs": [],
      "source": [
        "ind_for_dummies = np.where(np.array(LENS) <= 5 )\n",
        "ind_for_embed = np.where(np.array(LENS) > 5 )\n",
        "\n",
        "X_train = X_train.drop(columns = X_train.columns[ind_obj[0][ind_for_embed]])\n",
        "X_test  = X_test.drop(columns = X_test.columns[ind_obj[0][ind_for_embed]])\n"
      ]
    },
    {
      "cell_type": "code",
      "execution_count": 18,
      "metadata": {
        "id": "9oFtPFXvGg4R"
      },
      "outputs": [],
      "source": [
        "X = getNewData(X_train,0.2)\n",
        "X_test = getNewData(X_test,0.2)\n"
      ]
    },
    {
      "cell_type": "code",
      "source": [
        "ind =[]\n",
        "k=0\n",
        "for st in X.dtypes:\n",
        "  if st == object:\n",
        "    ind.append(k)\n",
        "  k+=1  "
      ],
      "metadata": {
        "id": "wcq_I_cJVJko"
      },
      "execution_count": 19,
      "outputs": []
    },
    {
      "cell_type": "code",
      "execution_count": 20,
      "metadata": {
        "id": "wrzpGrLoKxmE",
        "colab": {
          "base_uri": "https://localhost:8080/"
        },
        "outputId": "422353d7-4229-475f-c354-dc71df9aa0fa"
      },
      "outputs": [
        {
          "output_type": "execute_result",
          "data": {
            "text/plain": [
              "ProductCD    0\n",
              "card4        5\n",
              "card6        2\n",
              "dtype: int64"
            ]
          },
          "metadata": {},
          "execution_count": 20
        }
      ],
      "source": [
        "X[X.columns[ind]].isna().sum()"
      ]
    },
    {
      "cell_type": "code",
      "source": [
        "set(X[X.columns[ind]]['card6'])"
      ],
      "metadata": {
        "id": "SCqV9uoAWBRy",
        "colab": {
          "base_uri": "https://localhost:8080/"
        },
        "outputId": "09247574-a8dc-44e5-ae83-481b30c322cb"
      },
      "execution_count": 21,
      "outputs": [
        {
          "output_type": "execute_result",
          "data": {
            "text/plain": [
              "{'charge card', 'credit', 'debit', 'debit or credit', nan}"
            ]
          },
          "metadata": {},
          "execution_count": 21
        }
      ]
    },
    {
      "cell_type": "code",
      "source": [
        "set(X[X.columns[ind]]['card4'])"
      ],
      "metadata": {
        "id": "kFI1gzFrWdXh",
        "colab": {
          "base_uri": "https://localhost:8080/"
        },
        "outputId": "ffe3902e-108c-4740-917d-676dcbbc557b"
      },
      "execution_count": 22,
      "outputs": [
        {
          "output_type": "execute_result",
          "data": {
            "text/plain": [
              "{'american express', 'discover', 'mastercard', nan, 'visa'}"
            ]
          },
          "metadata": {},
          "execution_count": 22
        }
      ]
    },
    {
      "cell_type": "code",
      "source": [
        "X.shape"
      ],
      "metadata": {
        "id": "YudDABsdZDqW",
        "colab": {
          "base_uri": "https://localhost:8080/"
        },
        "outputId": "e7a70851-757a-4660-d0cd-364bf444acec"
      },
      "execution_count": 23,
      "outputs": [
        {
          "output_type": "execute_result",
          "data": {
            "text/plain": [
              "(40000, 112)"
            ]
          },
          "metadata": {},
          "execution_count": 23
        }
      ]
    },
    {
      "cell_type": "code",
      "execution_count": 24,
      "metadata": {
        "id": "-BsTrCY-Jyr_"
      },
      "outputs": [],
      "source": [
        "X_new  = pd.get_dummies(X, dummy_na=True)\n",
        "X_t = pd.get_dummies(X_test, dummy_na=True)\n",
        "\n",
        "X_new.loc[X_new.card6_nan == 1, [\"card6_charge card\"\t,\"card6_credit\"\t,\"card6_debit\"\t,\"card6_debit or credit\"]] = np.nan\n",
        "X_new.loc[X_new.card4_nan == 1, [\"card4_american express\"\t,\"card4_discover\"\t,\"card4_mastercard\"\t,\"card4_visa\"]] = np.nan\n",
        "\n",
        "X_t.loc[X_t.card6_nan == 1, [\"card6_charge card\"\t,\"card6_credit\"\t,\"card6_debit\"\t,\"card6_debit or credit\"]] = np.nan\n",
        "X_t.loc[X_t.card4_nan == 1, [\"card4_american express\"\t,\"card4_discover\"\t,\"card4_mastercard\"\t,\"card4_visa\"]] = np.nan\n",
        "\n",
        "del X_new[\"card6_nan\"]\n",
        "del X_new[\"card4_nan\"]\n",
        "del X_t[\"card6_nan\"]\n",
        "del X_t[\"card4_nan\"]\n"
      ]
    },
    {
      "cell_type": "code",
      "source": [
        "I_t = np.ones_like(X_t)\n",
        "indexes_for_nan =  np.where(X_t.isna()==True)\n"
      ],
      "metadata": {
        "id": "Asolg2nEhNx-"
      },
      "execution_count": 25,
      "outputs": []
    },
    {
      "cell_type": "code",
      "execution_count": 26,
      "metadata": {
        "id": "Y34eRSBeU3MM"
      },
      "outputs": [],
      "source": [
        "## import torch\n",
        "import torch\n",
        "import torch.nn as nn\n",
        "import torch.optim as optim\n",
        "from torchsummary import summary\n",
        "from torch.utils.data import TensorDataset, DataLoader\n",
        "from __future__ import unicode_literals, print_function, division\n",
        "from io import open\n",
        "import unicodedata\n",
        "import string\n",
        "import re\n",
        "\n",
        "device = torch.device(\"cuda:0\" if torch.cuda.is_available() else \"cpu\")"
      ]
    },
    {
      "cell_type": "code",
      "execution_count": 27,
      "metadata": {
        "id": "uFoEuofYLOse",
        "colab": {
          "base_uri": "https://localhost:8080/"
        },
        "outputId": "cef54b9d-1f37-4e5d-da30-753b13137089"
      },
      "outputs": [
        {
          "output_type": "execute_result",
          "data": {
            "text/plain": [
              "(2, 40000, 123)"
            ]
          },
          "metadata": {},
          "execution_count": 27
        }
      ],
      "source": [
        "I = np.ones_like(X_new)\n",
        "indexes_for_nan =  np.where(X_new.isna()==True)\n",
        "for i in range(indexes_for_nan[0].shape[0]):\n",
        "  I[indexes_for_nan[0][i]][indexes_for_nan[1][i]] = 0\n",
        "Matrix = np.zeros((2,X_new.shape[0],X_new.shape[1]))\n",
        "Matrix.shape  \n",
        "#X = X.fillna(0)  "
      ]
    },
    {
      "cell_type": "code",
      "source": [
        "Matrix[0] = X_new.fillna(0).values\n",
        "Matrix[1] = I\n"
      ],
      "metadata": {
        "id": "5Waf7YcgyfWc"
      },
      "execution_count": 28,
      "outputs": []
    },
    {
      "cell_type": "code",
      "execution_count": 29,
      "metadata": {
        "id": "zqi2j90nTu_M"
      },
      "outputs": [],
      "source": [
        "## Undercomplete\n",
        "class autoencoder(nn.Module):\n",
        "    def __init__(self, input_size, latent_dim):\n",
        "      super(autoencoder, self).__init__()\n",
        "      # Step 1 : Define the encoder \n",
        "      # Step 2 : Define the decoder\n",
        "      # Step 3 : Initialize the weights (optional)\n",
        "      self.encoder = nn.Sequential(\n",
        "          nn.Linear(input_size, input_size//2),\n",
        "          nn.ReLU(True),\n",
        "          nn.Dropout(0.2),\n",
        "          nn.Linear(input_size//2, input_size//3),\n",
        "          nn.Linear(input_size//3, input_size//4),\n",
        "          nn.Tanh(),\n",
        "          nn.Dropout(0.2),\n",
        "          nn.Linear(input_size//4, latent_dim)\n",
        "      )\n",
        "      self.decoder = nn.Sequential(\n",
        "          nn.Linear(latent_dim, input_size//4),\n",
        "          nn.ReLU(True),\n",
        "          nn.Dropout(0.2),\n",
        "          nn.Linear(input_size//4, input_size//3),\n",
        "          nn.Linear(input_size//3, input_size//2),\n",
        "          nn.Tanh(),\n",
        "          nn.Dropout(0.2),\n",
        "          nn.Linear(input_size//2, input_size)\n",
        "      )\n",
        "      self.encoder.apply(self.__init_weights)\n",
        "      self.decoder.apply(self.__init_weights)\n",
        "        \n",
        "    def forward(self, x):\n",
        "      # Step 1: Pass the input through encoder to get latent representation\n",
        "      # Step 2: Take latent representation and pass through decoder\n",
        "      X = x[0]*x[1]\n",
        "      X = self.encoder(X)\n",
        "      X = self.decoder(X)\n",
        "      return X\n",
        "    def Indicator(self,x):\n",
        "      return x[1]\n",
        "        \n",
        "    \n",
        "    def encode(self,input):\n",
        "      #Step 1: Pass the input through the encoder to get latent representation\n",
        "      return self.encoder(input)\n",
        "    \n",
        "    def __init_weights(self,m):\n",
        "      #Init the weights (optional)\n",
        "      if type(m) == nn.Linear:\n",
        "          torch.nn.init.xavier_uniform_(m.weight)\n",
        "          m.bias.data.fill_(0.01)"
      ]
    },
    {
      "cell_type": "code",
      "execution_count": 30,
      "metadata": {
        "id": "lsHh1-OvgiG8"
      },
      "outputs": [],
      "source": [
        "learning_rate = 0.0001\n",
        "num_epochs = 50\n",
        "inp_size = X_new.shape[1]\n",
        "lat_size = 20\n",
        "device = torch.device(\"cuda:0\" if torch.cuda.is_available() else \"cpu\")\n",
        "\n",
        "AE = autoencoder(inp_size,lat_size).to(device)"
      ]
    },
    {
      "cell_type": "code",
      "source": [
        "device = torch.device(\"cuda:0\" if torch.cuda.is_available() else \"cpu\")\n"
      ],
      "metadata": {
        "id": "T_n-SK1Vju6X"
      },
      "execution_count": 52,
      "outputs": []
    },
    {
      "cell_type": "code",
      "execution_count": 31,
      "metadata": {
        "id": "hQj2QSGJiJfO"
      },
      "outputs": [],
      "source": [
        "\n",
        "criterion = nn.L1Loss()\n",
        "optimizer = torch.optim.Adam(AE.parameters(),lr=learning_rate)\n",
        "\n",
        "#Create a random dataset\n",
        "data_loader = DataLoader(TensorDataset(torch.from_numpy(Matrix)),batch_size=32,shuffle=True)"
      ]
    },
    {
      "cell_type": "code",
      "execution_count": 32,
      "metadata": {
        "id": "0Z2jWynxo_Sj",
        "colab": {
          "base_uri": "https://localhost:8080/",
          "height": 1000
        },
        "outputId": "18943655-dfe3-4adc-e8e1-dda6280141da"
      },
      "outputs": [
        {
          "output_type": "stream",
          "name": "stdout",
          "text": [
            "epoch [1/50], loss:5297.4746\n",
            "epoch [2/50], loss:2940.4109\n",
            "epoch [3/50], loss:2879.7905\n",
            "epoch [4/50], loss:2798.1013\n",
            "epoch [5/50], loss:5297.4673\n",
            "epoch [6/50], loss:5297.4673\n",
            "epoch [7/50], loss:2604.4524\n",
            "epoch [8/50], loss:5297.4658\n",
            "epoch [9/50], loss:5297.4634\n",
            "epoch [10/50], loss:5297.4634\n",
            "epoch [11/50], loss:2401.7664\n",
            "epoch [12/50], loss:5297.4614\n",
            "epoch [13/50], loss:2294.8398\n",
            "epoch [14/50], loss:5297.4595\n",
            "epoch [15/50], loss:5297.4585\n",
            "epoch [16/50], loss:2168.6111\n",
            "epoch [17/50], loss:2136.0042\n",
            "epoch [18/50], loss:2093.9014\n",
            "epoch [19/50], loss:2056.9084\n",
            "epoch [20/50], loss:2002.8256\n",
            "epoch [21/50], loss:1962.9615\n",
            "epoch [22/50], loss:5297.4531\n",
            "epoch [23/50], loss:5297.4512\n",
            "epoch [24/50], loss:5297.4507\n",
            "epoch [25/50], loss:5297.4507\n",
            "epoch [26/50], loss:1800.9198\n",
            "epoch [27/50], loss:5297.4482\n",
            "epoch [28/50], loss:5297.4473\n",
            "epoch [29/50], loss:5297.4468\n",
            "epoch [30/50], loss:5297.4458\n",
            "epoch [31/50], loss:5297.4443\n",
            "epoch [32/50], loss:5297.4438\n",
            "epoch [33/50], loss:1707.7915\n",
            "epoch [34/50], loss:5297.4414\n",
            "epoch [35/50], loss:1693.7024\n",
            "epoch [36/50], loss:5297.4399\n",
            "epoch [37/50], loss:5297.4395\n",
            "epoch [38/50], loss:1656.5480\n",
            "epoch [39/50], loss:1641.3356\n",
            "epoch [40/50], loss:5297.4370\n",
            "epoch [41/50], loss:1625.5498\n",
            "epoch [42/50], loss:1611.0594\n",
            "epoch [43/50], loss:1606.2930\n",
            "epoch [44/50], loss:1580.5438\n",
            "epoch [45/50], loss:5297.4331\n",
            "epoch [46/50], loss:5297.4331\n",
            "epoch [47/50], loss:1554.3397\n",
            "epoch [48/50], loss:1541.2251\n",
            "epoch [49/50], loss:5297.4297\n",
            "epoch [50/50], loss:5297.4287\n"
          ]
        },
        {
          "output_type": "execute_result",
          "data": {
            "text/plain": [
              "[<matplotlib.lines.Line2D at 0x7f3bdafcf310>]"
            ]
          },
          "metadata": {},
          "execution_count": 32
        },
        {
          "output_type": "display_data",
          "data": {
            "text/plain": [
              "<Figure size 432x288 with 1 Axes>"
            ],
            "image/png": "[encoded data removed]"
          },
          "metadata": {
            "needs_background": "light"
          }
        }
      ],
      "source": [
        "import matplotlib.pyplot as plt\n",
        "recon_train = [] \n",
        "losses = []\n",
        "for epoch in range(num_epochs):\n",
        "  epoch_loss = 0.0\n",
        "  for X in data_loader:\n",
        "    X = X[0].to(device)\n",
        "    \n",
        "    optimizer.zero_grad()\n",
        "    # forward\n",
        "    output = AE(X.float())\n",
        "    \n",
        "    loss = criterion(output*X.float()[1], X.float()[0])\n",
        "    # backward\n",
        "    loss.backward()\n",
        "    optimizer.step()\n",
        "\n",
        "    epoch_loss += loss.item()\n",
        "  losses.append(epoch_loss)\n",
        "  # log\n",
        "  print('epoch [{}/{}], loss:{:.4f}'.format(epoch + 1, num_epochs, loss.item()))\n",
        "plt.plot(range(1,num_epochs+1),losses)  \n",
        "  "
      ]
    },
    {
      "cell_type": "code",
      "source": [
        "#data_loader = DataLoader(TensorDataset(torch.from_numpy(Matrix)),batch_size=32,shuffle=False)\n",
        "tr = torch.from_numpy(Matrix).to(device)\n",
        "train_reconstructed = AE(tr.float())\n",
        "del tr"
      ],
      "metadata": {
        "id": "13eYEvNhmX7M"
      },
      "execution_count": 33,
      "outputs": []
    },
    {
      "cell_type": "code",
      "source": [
        "train_results = (np.ones_like(Matrix[0]) - Matrix[1]) * train_reconstructed.detach().cpu().numpy()+ Matrix[0]"
      ],
      "metadata": {
        "id": "xpl1hAfGeGZ8"
      },
      "execution_count": 34,
      "outputs": []
    },
    {
      "cell_type": "code",
      "source": [
        "#del Matrix\n",
        "del train_reconstructed"
      ],
      "metadata": {
        "id": "1dNL1zrLfTr2"
      },
      "execution_count": 35,
      "outputs": []
    },
    {
      "cell_type": "code",
      "source": [
        "I_t = np.ones_like(X_t)\n",
        "indexes_for_nan =  np.where(X_t.isna()==True)\n",
        "for i in range(indexes_for_nan[0].shape[0]):\n",
        "  I_t[indexes_for_nan[0][i]][indexes_for_nan[1][i]] = 0\n",
        "Matrix_t = np.zeros((2,X_t.shape[0],X_t.shape[1]))\n",
        "#X = X.fillna(0)  \n",
        "Matrix_t[0] = X_t.fillna(0).values\n",
        "Matrix_t[1] = I_t\n",
        "tst = torch.from_numpy(Matrix_t).to(device)\n",
        "test_reconstructed = AE(tst.float())\n",
        "\n",
        "test_results = (np.ones_like(Matrix_t[0]) - Matrix_t[1]) * test_reconstructed.detach().cpu().numpy()+ Matrix_t[0]\n"
      ],
      "metadata": {
        "id": "8aXpOOL0nDvB"
      },
      "execution_count": 36,
      "outputs": []
    },
    {
      "cell_type": "code",
      "source": [
        "from sklearn.svm import SVC\n",
        "#from sklearn.pipeline import make_pipeline\n",
        "from sklearn.preprocessing import StandardScaler\n",
        "from sklearn.linear_model import PassiveAggressiveClassifier\n"
      ],
      "metadata": {
        "id": "lkYXxfWxz3w2"
      },
      "execution_count": 37,
      "outputs": []
    },
    {
      "cell_type": "code",
      "source": [
        "from sklearn.linear_model import PassiveAggressiveClassifier\n",
        "from sklearn.metrics import confusion_matrix, classification_report\n",
        "from sklearn.linear_model import LogisticRegression\n",
        "from sklearn.preprocessing import StandardScaler\n",
        "sc = StandardScaler()\n",
        "\n",
        "X_n = sc.fit_transform(X_new.fillna(0))\n",
        "clf = LogisticRegression(random_state=0).fit(X_n, y_train)\n"
      ],
      "metadata": {
        "id": "KmqK9nIKLNMV",
        "colab": {
          "base_uri": "https://localhost:8080/"
        },
        "outputId": "d9f0dc51-781e-4a43-808f-78f42a73eea0"
      },
      "execution_count": 38,
      "outputs": [
        {
          "output_type": "stream",
          "name": "stderr",
          "text": [
            "/usr/local/lib/python3.7/dist-packages/sklearn/linear_model/_logistic.py:818: ConvergenceWarning: lbfgs failed to converge (status=1):\n",
            "STOP: TOTAL NO. of ITERATIONS REACHED LIMIT.\n",
            "\n",
            "Increase the number of iterations (max_iter) or scale the data as shown in:\n",
            "    https://scikit-learn.org/stable/modules/preprocessing.html\n",
            "Please also refer to the documentation for alternative solver options:\n",
            "    https://scikit-learn.org/stable/modules/linear_model.html#logistic-regression\n",
            "  extra_warning_msg=_LOGISTIC_SOLVER_CONVERGENCE_MSG,\n"
          ]
        }
      ]
    },
    {
      "cell_type": "code",
      "source": [
        "X_te = sc.fit_transform(X_t.fillna(0))\n",
        "y_pred = clf.predict(X_te)\n",
        "print(classification_report(y_test,y_pred,digits = 6))\n",
        "#print(f1_score(y_test,y_pred))"
      ],
      "metadata": {
        "id": "rqseYnkGRdxt",
        "colab": {
          "base_uri": "https://localhost:8080/"
        },
        "outputId": "a2843785-0deb-4775-de5c-2af0bd9beb0a"
      },
      "execution_count": 39,
      "outputs": [
        {
          "output_type": "stream",
          "name": "stdout",
          "text": [
            "              precision    recall  f1-score   support\n",
            "\n",
            "           0   0.974534  0.998972  0.986602      9730\n",
            "           1   0.615385  0.059259  0.108108       270\n",
            "\n",
            "    accuracy                       0.973600     10000\n",
            "   macro avg   0.794959  0.529116  0.547355     10000\n",
            "weighted avg   0.964837  0.973600  0.962882     10000\n",
            "\n"
          ]
        }
      ]
    },
    {
      "cell_type": "code",
      "source": [
        "del X_n \n",
        "del X_te\n"
      ],
      "metadata": {
        "id": "LiJxiOMQf-1K"
      },
      "execution_count": 40,
      "outputs": []
    },
    {
      "cell_type": "code",
      "source": [
        "recon = sc.fit_transform(train_results)\n",
        "test_recon = sc.fit_transform(test_results)#test_reconstructed.cpu().detach().numpy())\n",
        "clf = LogisticRegression(random_state=0).fit(recon, y_train)\n",
        "y_pred_recon = clf.predict(test_recon)\n",
        "classification_report(y_test,y_pred_recon)\n",
        "print(classification_report(y_test,y_pred_recon))"
      ],
      "metadata": {
        "id": "RvLjaOcMQXOT",
        "colab": {
          "base_uri": "https://localhost:8080/"
        },
        "outputId": "476cb3e1-6b1c-496b-8ee0-8084df39153b"
      },
      "execution_count": 41,
      "outputs": [
        {
          "output_type": "stream",
          "name": "stdout",
          "text": [
            "              precision    recall  f1-score   support\n",
            "\n",
            "           0       0.97      1.00      0.99      9730\n",
            "           1       0.59      0.06      0.11       270\n",
            "\n",
            "    accuracy                           0.97     10000\n",
            "   macro avg       0.78      0.53      0.55     10000\n",
            "weighted avg       0.96      0.97      0.96     10000\n",
            "\n"
          ]
        },
        {
          "output_type": "stream",
          "name": "stderr",
          "text": [
            "/usr/local/lib/python3.7/dist-packages/sklearn/linear_model/_logistic.py:818: ConvergenceWarning: lbfgs failed to converge (status=1):\n",
            "STOP: TOTAL NO. of ITERATIONS REACHED LIMIT.\n",
            "\n",
            "Increase the number of iterations (max_iter) or scale the data as shown in:\n",
            "    https://scikit-learn.org/stable/modules/preprocessing.html\n",
            "Please also refer to the documentation for alternative solver options:\n",
            "    https://scikit-learn.org/stable/modules/linear_model.html#logistic-regression\n",
            "  extra_warning_msg=_LOGISTIC_SOLVER_CONVERGENCE_MSG,\n"
          ]
        }
      ]
    },
    {
      "cell_type": "code",
      "source": [
        "del test_recon \n",
        "del recon\n",
        "del clf\n"
      ],
      "metadata": {
        "id": "8w3IbZzvnY_w"
      },
      "execution_count": 42,
      "outputs": []
    },
    {
      "cell_type": "markdown",
      "source": [
        "#### PCA"
      ],
      "metadata": {
        "id": "yxH-Z5RnoUQw"
      }
    },
    {
      "cell_type": "code",
      "source": [
        "from sklearn.preprocessing import StandardScaler\n",
        "from sklearn.decomposition import PCA\n",
        "\n",
        "\n",
        "\n",
        "norm_data = StandardScaler().fit_transform(train_results)\n",
        "\n",
        "#scaler = StandardScaler()\n",
        "#data = scaler.fit_transform(df_an)\n",
        "# del X_new\n",
        "# del I \n",
        "# del Matrix\n",
        "pca = PCA()\n",
        "pca.fit(norm_data)\n",
        "plt.figure(figsize=(10,8))\n",
        "plt.plot(range(0,(X_t.shape[1])), pca.explained_variance_ratio_.cumsum(), marker ='o', linestyle = '--')\n",
        "plt.xlabel(\"Num of features\")\n",
        "plt.ylabel(\"Explained Variance\")\n",
        "#plt.title(\"Graph for pick num of importnt features \")\n",
        "#plt.savefig(\"PCA.eps\" , format='eps')\n",
        "plt.show()\n"
      ],
      "metadata": {
        "id": "nD_fK5m0tqZI",
        "colab": {
          "base_uri": "https://localhost:8080/",
          "height": 497
        },
        "outputId": "d32cffb5-91d6-46ff-95e5-e33f9caba20b"
      },
      "execution_count": 43,
      "outputs": [
        {
          "output_type": "display_data",
          "data": {
            "text/plain": [
              "<Figure size 720x576 with 1 Axes>"
            ],
            "image/png": "[encoded data removed]"
          },
          "metadata": {
            "needs_background": "light"
          }
        }
      ]
    },
    {
      "cell_type": "code",
      "source": [
        "sc = StandardScaler()\n",
        "pca = PCA(n_components=60)\n",
        "recon = pca.fit_transform(sc.fit_transform(train_results))\n",
        "\n",
        "test_recon = sc.fit_transform(test_results)#test_reconstructed.cpu().detach().numpy())\n",
        "test_recon = pca.fit_transform(test_recon)\n",
        "clf = LogisticRegression(random_state=0).fit(recon, y_train)\n",
        "y_pred_recon = clf.predict(test_recon)\n",
        "classification_report(y_test,y_pred_recon)\n",
        "print(classification_report(y_test,y_pred_recon))\n"
      ],
      "metadata": {
        "id": "iKGcCEa3paox",
        "colab": {
          "base_uri": "https://localhost:8080/"
        },
        "outputId": "611d333a-7acb-4564-9dc9-d023f3c6d360"
      },
      "execution_count": 44,
      "outputs": [
        {
          "output_type": "stream",
          "name": "stdout",
          "text": [
            "              precision    recall  f1-score   support\n",
            "\n",
            "           0       0.97      0.99      0.98      9730\n",
            "           1       0.14      0.04      0.07       270\n",
            "\n",
            "    accuracy                           0.97     10000\n",
            "   macro avg       0.56      0.52      0.53     10000\n",
            "weighted avg       0.95      0.97      0.96     10000\n",
            "\n"
          ]
        },
        {
          "output_type": "stream",
          "name": "stderr",
          "text": [
            "/usr/local/lib/python3.7/dist-packages/sklearn/linear_model/_logistic.py:818: ConvergenceWarning: lbfgs failed to converge (status=1):\n",
            "STOP: TOTAL NO. of ITERATIONS REACHED LIMIT.\n",
            "\n",
            "Increase the number of iterations (max_iter) or scale the data as shown in:\n",
            "    https://scikit-learn.org/stable/modules/preprocessing.html\n",
            "Please also refer to the documentation for alternative solver options:\n",
            "    https://scikit-learn.org/stable/modules/linear_model.html#logistic-regression\n",
            "  extra_warning_msg=_LOGISTIC_SOLVER_CONVERGENCE_MSG,\n"
          ]
        }
      ]
    },
    {
      "cell_type": "markdown",
      "source": [
        "### LDA"
      ],
      "metadata": {
        "id": "wjFgnLAe1m-n"
      }
    },
    {
      "cell_type": "code",
      "source": [
        "#import numpy as np\n",
        "from sklearn.discriminant_analysis import LinearDiscriminantAnalysis\n",
        "lda = LinearDiscriminantAnalysis(n_components= 1)\n",
        "sc = StandardScaler()\n",
        "\n",
        "recon = lda.fit_transform(sc.fit_transform(train_results),y_train)\n",
        "\n",
        "test_recon = sc.fit_transform(test_results)#test_reconstructed.cpu().detach().numpy())\n",
        "test_recon = lda.fit_transform(test_recon,y_test)\n",
        "clf = LogisticRegression(random_state=0).fit(recon, y_train)\n",
        "y_pred_recon = clf.predict(test_recon)\n",
        "classification_report(y_test,y_pred_recon)\n",
        "print(classification_report(y_test,y_pred_recon))\n"
      ],
      "metadata": {
        "id": "u2daEtoSoaYv",
        "colab": {
          "base_uri": "https://localhost:8080/"
        },
        "outputId": "e15413ad-ac97-40b6-c8e2-caccf45bba64"
      },
      "execution_count": 45,
      "outputs": [
        {
          "output_type": "stream",
          "name": "stdout",
          "text": [
            "              precision    recall  f1-score   support\n",
            "\n",
            "           0       0.98      1.00      0.99      9730\n",
            "           1       0.82      0.12      0.21       270\n",
            "\n",
            "    accuracy                           0.98     10000\n",
            "   macro avg       0.90      0.56      0.60     10000\n",
            "weighted avg       0.97      0.98      0.97     10000\n",
            "\n"
          ]
        }
      ]
    },
    {
      "cell_type": "code",
      "source": [
        "import gc\n",
        "gc.collect()"
      ],
      "metadata": {
        "id": "Ue8JTRftx0Cg",
        "colab": {
          "base_uri": "https://localhost:8080/"
        },
        "outputId": "cfa62980-d416-4461-c6cb-b1ccafa3f8ad"
      },
      "execution_count": 46,
      "outputs": [
        {
          "output_type": "execute_result",
          "data": {
            "text/plain": [
              "68"
            ]
          },
          "metadata": {},
          "execution_count": 46
        }
      ]
    },
    {
      "cell_type": "markdown",
      "source": [
        "### NOIZY AE"
      ],
      "metadata": {
        "id": "7z-f_WBF3Kq1"
      }
    },
    {
      "cell_type": "code",
      "source": [
        "recon_train = [] \n",
        "losses = []\n",
        "normal = torch.distributions.Normal(0, 0.5)\n",
        "\n",
        "def add_noise(x, device=device): \n",
        "    return x + normal.sample(sample_shape=torch.Size(x.shape))\n",
        "\n",
        "\n",
        "for epoch in range(num_epochs):\n",
        "  epoch_loss = 0.0\n",
        "  for X in data_loader:\n",
        "    X = add_noise(X[0]).to(device)\n",
        "    \n",
        "    optimizer.zero_grad()\n",
        "    # forward\n",
        "    output = AE(X.float())\n",
        "    \n",
        "    loss = criterion(output*X.float()[1], X.float()[0])\n",
        "    # backward\n",
        "    loss.backward()\n",
        "    optimizer.step()\n",
        "\n",
        "    epoch_loss += loss.item()\n",
        "  losses.append(epoch_loss)\n",
        "  # log\n",
        "  print('epoch [{}/{}], loss:{:.4f}'.format(epoch + 1, num_epochs, loss.item()))\n",
        "plt.plot(range(1,num_epochs+1),losses)  \n",
        "  "
      ],
      "metadata": {
        "id": "mbYgTG1eyGoX",
        "colab": {
          "base_uri": "https://localhost:8080/",
          "height": 1000
        },
        "outputId": "e10ff07b-6cd2-4ac1-8dff-389a98588426"
      },
      "execution_count": 47,
      "outputs": [
        {
          "output_type": "stream",
          "name": "stdout",
          "text": [
            "epoch [1/50], loss:1512.1433\n",
            "epoch [2/50], loss:1505.4075\n",
            "epoch [3/50], loss:5297.5576\n",
            "epoch [4/50], loss:5297.5571\n",
            "epoch [5/50], loss:5297.5566\n",
            "epoch [6/50], loss:1468.5172\n",
            "epoch [7/50], loss:5297.5552\n",
            "epoch [8/50], loss:5297.5547\n",
            "epoch [9/50], loss:1452.7490\n",
            "epoch [10/50], loss:5297.5532\n",
            "epoch [11/50], loss:1438.7406\n",
            "epoch [12/50], loss:1429.5790\n",
            "epoch [13/50], loss:5297.5508\n",
            "epoch [14/50], loss:5297.5513\n",
            "epoch [15/50], loss:5297.5498\n",
            "epoch [16/50], loss:5297.5493\n",
            "epoch [17/50], loss:1396.0685\n",
            "epoch [18/50], loss:5297.5493\n",
            "epoch [19/50], loss:1382.8901\n",
            "epoch [20/50], loss:5297.5474\n",
            "epoch [21/50], loss:5297.5474\n",
            "epoch [22/50], loss:1362.0739\n",
            "epoch [23/50], loss:5297.5464\n",
            "epoch [24/50], loss:1365.4598\n",
            "epoch [25/50], loss:5297.5444\n",
            "epoch [26/50], loss:1343.3739\n",
            "epoch [27/50], loss:5297.5435\n",
            "epoch [28/50], loss:1345.1678\n",
            "epoch [29/50], loss:5297.5415\n",
            "epoch [30/50], loss:1324.6495\n",
            "epoch [31/50], loss:1317.0004\n",
            "epoch [32/50], loss:1307.6659\n",
            "epoch [33/50], loss:1297.0106\n",
            "epoch [34/50], loss:1300.3168\n",
            "epoch [35/50], loss:5297.5396\n",
            "epoch [36/50], loss:5297.5386\n",
            "epoch [37/50], loss:5297.5381\n",
            "epoch [38/50], loss:5297.5366\n",
            "epoch [39/50], loss:1265.4625\n",
            "epoch [40/50], loss:5297.5361\n",
            "epoch [41/50], loss:1257.7948\n",
            "epoch [42/50], loss:1243.9364\n",
            "epoch [43/50], loss:1244.9457\n",
            "epoch [44/50], loss:1234.4633\n",
            "epoch [45/50], loss:1222.5895\n",
            "epoch [46/50], loss:5297.5327\n",
            "epoch [47/50], loss:5297.5327\n",
            "epoch [48/50], loss:1200.3102\n",
            "epoch [49/50], loss:1193.4739\n",
            "epoch [50/50], loss:5297.5303\n"
          ]
        },
        {
          "output_type": "execute_result",
          "data": {
            "text/plain": [
              "[<matplotlib.lines.Line2D at 0x7f3bd76a9890>]"
            ]
          },
          "metadata": {},
          "execution_count": 47
        },
        {
          "output_type": "display_data",
          "data": {
            "text/plain": [
              "<Figure size 432x288 with 1 Axes>"
            ],
            "image/png": "[encoded data removed]"
          },
          "metadata": {
            "needs_background": "light"
          }
        }
      ]
    },
    {
      "cell_type": "code",
      "source": [
        "#data_loader = DataLoader(TensorDataset(torch.from_numpy(Matrix)),batch_size=32,shuffle=False)\n",
        "tr = torch.from_numpy(Matrix).to(device)\n",
        "train_reconstructed = AE(tr.float())\n",
        "del tr\n",
        "train_results = (np.ones_like(Matrix[0]) - Matrix[1]) * train_reconstructed.detach().cpu().numpy()+ Matrix[0]\n",
        "del train_reconstructed\n",
        "\n",
        "I_t = np.ones_like(X_t)\n",
        "indexes_for_nan =  np.where(X_t.isna()==True)\n",
        "for i in range(indexes_for_nan[0].shape[0]):\n",
        "  I_t[indexes_for_nan[0][i]][indexes_for_nan[1][i]] = 0\n",
        "Matrix_t = np.zeros((2,X_t.shape[0],X_t.shape[1]))\n",
        "#X = X.fillna(0)  \n",
        "Matrix_t[0] = X_t.fillna(0).values\n",
        "Matrix_t[1] = I_t\n",
        "tst = torch.from_numpy(Matrix_t).to(device)\n",
        "test_reconstructed = AE(tst.float())\n",
        "\n",
        "test_results = (np.ones_like(Matrix_t[0]) - Matrix_t[1]) * test_reconstructed.detach().cpu().numpy()+ Matrix_t[0]\n"
      ],
      "metadata": {
        "id": "59mJqtSOzitz"
      },
      "execution_count": 48,
      "outputs": []
    },
    {
      "cell_type": "code",
      "source": [
        "recon = sc.fit_transform(train_results)\n",
        "test_recon = sc.fit_transform(test_results)#test_reconstructed.cpu().detach().numpy())\n",
        "clf = LogisticRegression(random_state=0).fit(recon, y_train)\n",
        "y_pred_recon = clf.predict(test_recon)\n",
        "classification_report(y_test,y_pred_recon)\n",
        "print(classification_report(y_test,y_pred_recon))"
      ],
      "metadata": {
        "id": "n_Ga7PBb17BR",
        "colab": {
          "base_uri": "https://localhost:8080/"
        },
        "outputId": "2a0d7d6a-303d-4b4a-e6e5-36a7191cb701"
      },
      "execution_count": 49,
      "outputs": [
        {
          "output_type": "stream",
          "name": "stdout",
          "text": [
            "              precision    recall  f1-score   support\n",
            "\n",
            "           0       0.97      1.00      0.99      9730\n",
            "           1       0.56      0.06      0.10       270\n",
            "\n",
            "    accuracy                           0.97     10000\n",
            "   macro avg       0.76      0.53      0.54     10000\n",
            "weighted avg       0.96      0.97      0.96     10000\n",
            "\n"
          ]
        },
        {
          "output_type": "stream",
          "name": "stderr",
          "text": [
            "/usr/local/lib/python3.7/dist-packages/sklearn/linear_model/_logistic.py:818: ConvergenceWarning: lbfgs failed to converge (status=1):\n",
            "STOP: TOTAL NO. of ITERATIONS REACHED LIMIT.\n",
            "\n",
            "Increase the number of iterations (max_iter) or scale the data as shown in:\n",
            "    https://scikit-learn.org/stable/modules/preprocessing.html\n",
            "Please also refer to the documentation for alternative solver options:\n",
            "    https://scikit-learn.org/stable/modules/linear_model.html#logistic-regression\n",
            "  extra_warning_msg=_LOGISTIC_SOLVER_CONVERGENCE_MSG,\n"
          ]
        }
      ]
    },
    {
      "cell_type": "markdown",
      "source": [
        "### VAE "
      ],
      "metadata": {
        "id": "RSVyl44h3w6B"
      }
    },
    {
      "cell_type": "code",
      "source": [
        "\n",
        "# VAE model\n",
        "import torch.nn.functional as F\n",
        "\n",
        "input_size = train_results.shape[1]\n",
        "losses_vae=[]\n",
        "z_dim=20\n",
        "\n",
        "class VAE(nn.Module):\n",
        "    def __init__(self, input_size=input_size, h_dim=400, z_dim=z_dim):\n",
        "        super(VAE, self).__init__()\n",
        "        self.fc1 = nn.Linear(input_size, h_dim)\n",
        "        self.fc2 = nn.Linear(h_dim, z_dim)\n",
        "        self.fc3 = nn.Linear(h_dim, z_dim)\n",
        "        self.fc4 = nn.Linear(z_dim, h_dim)\n",
        "        self.fc5 = nn.Linear(h_dim, input_size)\n",
        "        \n",
        "    def encode(self, x):\n",
        "        #print(x.shape)\n",
        "        h = F.relu(self.fc1(x))\n",
        "        return self.fc2(h), self.fc3(h)\n",
        "    \n",
        "    def reparameterize(self, mu, log_var):\n",
        "        std = torch.exp(log_var/2)\n",
        "        eps = torch.randn_like(std)\n",
        "        return mu + eps * std\n",
        "\n",
        "    def decode(self, z):\n",
        "        h = F.relu(self.fc4(z))\n",
        "        return F.sigmoid(self.fc5(h))\n",
        "    \n",
        "    def forward(self, x):\n",
        "        mu, log_var = self.encode(x[0]*x[1])\n",
        "        z = self.reparameterize(mu, log_var)\n",
        "        x_reconst = self.decode(z)\n",
        "        return x_reconst, mu, log_var\n",
        "     "
      ],
      "metadata": {
        "id": "xdsvVue6172V"
      },
      "execution_count": 59,
      "outputs": []
    },
    {
      "cell_type": "code",
      "source": [
        "#device = torch.device('cuda:2')  # GPU 2 (these are 0-indexed)\n",
        "\n",
        "\n",
        "model = VAE().to(device)\n",
        "optimizer = torch.optim.Adam(model.parameters(), lr=learning_rate)\n",
        "input_size = train_results.shape[0]\n",
        "Matrix[0] =  Matrix[0]/ np.max(Matrix[0]) \n",
        "data_loader = DataLoader(TensorDataset(torch.from_numpy(Matrix)),batch_size=32,shuffle=True)\n",
        "\n",
        "\n",
        "for epoch in range(num_epochs):\n",
        "    i=0\n",
        "    for  X in (data_loader):\n",
        "        # Forward pass\n",
        "        X = X[0].to(device)\n",
        "        output, mu, log_var = model(X.float())\n",
        "        \n",
        "        # Compute reconstruction loss and kl divergence\n",
        "        # For KL divergence, see Appendix B in VAE paper or http://yunjey47.tistory.com/43\n",
        "        reconst_loss = F.binary_cross_entropy(output*X.float()[1], X.float()[0], size_average=False)\n",
        "        kl_div = - 0.5 * torch.sum(1 + log_var - mu.pow(2) - log_var.exp())\n",
        "        \n",
        "        # Backprop and optimize\n",
        "        loss = reconst_loss + kl_div\n",
        "        optimizer.zero_grad()\n",
        "        loss.backward()\n",
        "        optimizer.step()\n",
        "        \n",
        "        if (i+1) % 50 == 0:\n",
        "          print (\"Epoch[{}/{}], Step [{}/{}], Reconst Loss: {:.4f}, KL Div: {:.4f}\".format(epoch+1, num_epochs, i+1, len(data_loader), reconst_loss.item(), kl_div.item()))\n",
        "        i+=1    \n",
        "\n",
        "        losses_vae.append(reconst_loss.item())\n",
        "plt.plot(range(len(losses_vae)),losses_vae)   "
      ],
      "metadata": {
        "colab": {
          "base_uri": "https://localhost:8080/",
          "height": 363
        },
        "id": "BAVTS7j3B-ZU",
        "outputId": "c87ef028-996d-447f-80cb-191696bf7f06"
      },
      "execution_count": 65,
      "outputs": [
        {
          "output_type": "stream",
          "name": "stderr",
          "text": [
            "/usr/local/lib/python3.7/dist-packages/torch/nn/functional.py:1944: UserWarning: nn.functional.sigmoid is deprecated. Use torch.sigmoid instead.\n",
            "  warnings.warn(\"nn.functional.sigmoid is deprecated. Use torch.sigmoid instead.\")\n",
            "/usr/local/lib/python3.7/dist-packages/torch/nn/_reduction.py:42: UserWarning: size_average and reduce args will be deprecated, please use reduction='sum' instead.\n",
            "  warnings.warn(warning.format(ret))\n"
          ]
        },
        {
          "output_type": "execute_result",
          "data": {
            "text/plain": [
              "[<matplotlib.lines.Line2D at 0x7f3bd34e3790>]"
            ]
          },
          "metadata": {},
          "execution_count": 65
        },
        {
          "output_type": "display_data",
          "data": {
            "text/plain": [
              "<Figure size 432x288 with 1 Axes>"
            ],
            "image/png": "[encoded data removed]"
          },
          "metadata": {
            "needs_background": "light"
          }
        }
      ]
    },
    {
      "cell_type": "code",
      "source": [
        "X[0].shaprecon = sc.fit_transform(train_results)\n",
        "test_recon = sc.fit_transform(test_results)#test_reconstructed.cpu().detach().numpy())\n",
        "clf = LogisticRegression(random_state=0).fit(recon, y_train)\n",
        "y_pred_recon = clf.predict(test_recon)\n",
        "classification_report(y_test,y_pred_recon)\n",
        "print(classification_report(y_test,y_pred_recon))"
      ],
      "metadata": {
        "colab": {
          "base_uri": "https://localhost:8080/"
        },
        "id": "YLEZoegP6qvv",
        "outputId": "60a9a0ad-cbe3-49c9-b6db-e382168a68e3"
      },
      "execution_count": 66,
      "outputs": [
        {
          "output_type": "stream",
          "name": "stdout",
          "text": [
            "              precision    recall  f1-score   support\n",
            "\n",
            "           0       0.97      1.00      0.99      9730\n",
            "           1       0.56      0.06      0.10       270\n",
            "\n",
            "    accuracy                           0.97     10000\n",
            "   macro avg       0.76      0.53      0.54     10000\n",
            "weighted avg       0.96      0.97      0.96     10000\n",
            "\n"
          ]
        },
        {
          "output_type": "stream",
          "name": "stderr",
          "text": [
            "/usr/local/lib/python3.7/dist-packages/sklearn/linear_model/_logistic.py:818: ConvergenceWarning: lbfgs failed to converge (status=1):\n",
            "STOP: TOTAL NO. of ITERATIONS REACHED LIMIT.\n",
            "\n",
            "Increase the number of iterations (max_iter) or scale the data as shown in:\n",
            "    https://scikit-learn.org/stable/modules/preprocessing.html\n",
            "Please also refer to the documentation for alternative solver options:\n",
            "    https://scikit-learn.org/stable/modules/linear_model.html#logistic-regression\n",
            "  extra_warning_msg=_LOGISTIC_SOLVER_CONVERGENCE_MSG,\n"
          ]
        }
      ]
    },
    {
      "cell_type": "code",
      "source": [
        ""
      ],
      "metadata": {
        "id": "D7vtFKXG6vnm"
      },
      "execution_count": null,
      "outputs": []
    }
  ],
  "metadata": {
    "colab": {
      "name": "A2_ML.ipynb",
      "provenance": [],
      "collapsed_sections": []
    },
    "kernelspec": {
      "display_name": "Python 3",
      "name": "python3"
    },
    "language_info": {
      "name": "python"
    },
    "accelerator": "GPU"
  },
  "nbformat": 4,
  "nbformat_minor": 0
}