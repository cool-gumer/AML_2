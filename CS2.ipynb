{
  "cells": [
    {
      "cell_type": "code",
      "execution_count": 1,
      "metadata": {
        "id": "_bi4OrVsnfsH"
      },
      "outputs": [],
      "source": [
        "import pandas as pd \n",
        "import numpy as np\n",
        "import zipfile\n",
        "zip_ref = zipfile.ZipFile(\"/content/1part of training and testing set.zip\", 'r')\n",
        "zip_ref.extractall()\n",
        "\n",
        "df_train=pd.read_csv('/content/a part of training and testing set/UNSW_NB15_training-set.csv')\n",
        "df_test=pd.read_csv('/content/a part of training and testing set/UNSW_NB15_testing-set.csv')\n",
        "\n",
        "#f1 = pd.read_csv(\"/content/data_identity.csv\")\n",
        "#df2 = pd.read_csv(\"/content/data_transaction.csv\")\n"
      ]
    },
    {
      "cell_type": "markdown",
      "source": [
        "### Uploading + preprocessing"
      ],
      "metadata": {
        "id": "w_ZgpO7GndMA"
      }
    },
    {
      "cell_type": "code",
      "execution_count": 2,
      "metadata": {
        "id": "yYAvVpyZrJ1L"
      },
      "outputs": [],
      "source": [
        "data=pd.concat([df_train,df_test],ignore_index=True)\n",
        "y=data['label']\n",
        "data.drop('label',axis=1,inplace=True)"
      ]
    },
    {
      "cell_type": "code",
      "execution_count": 3,
      "metadata": {
        "colab": {
          "base_uri": "https://localhost:8080/"
        },
        "id": "qO47ytRWsvt-",
        "outputId": "d68789a0-455a-4b2d-a90f-2a59a1c126d8"
      },
      "outputs": [
        {
          "output_type": "stream",
          "name": "stdout",
          "text": [
            "<class 'pandas.core.frame.DataFrame'>\n",
            "RangeIndex: 257673 entries, 0 to 257672\n",
            "Data columns (total 44 columns):\n",
            " #   Column             Non-Null Count   Dtype  \n",
            "---  ------             --------------   -----  \n",
            " 0   id                 257673 non-null  int64  \n",
            " 1   dur                257673 non-null  float64\n",
            " 2   proto              257673 non-null  object \n",
            " 3   service            257673 non-null  object \n",
            " 4   state              257673 non-null  object \n",
            " 5   spkts              257673 non-null  int64  \n",
            " 6   dpkts              257673 non-null  int64  \n",
            " 7   sbytes             257673 non-null  int64  \n",
            " 8   dbytes             257673 non-null  int64  \n",
            " 9   rate               257673 non-null  float64\n",
            " 10  sttl               257673 non-null  int64  \n",
            " 11  dttl               257673 non-null  int64  \n",
            " 12  sload              257673 non-null  float64\n",
            " 13  dload              257673 non-null  float64\n",
            " 14  sloss              257673 non-null  int64  \n",
            " 15  dloss              257673 non-null  int64  \n",
            " 16  sinpkt             257673 non-null  float64\n",
            " 17  dinpkt             257673 non-null  float64\n",
            " 18  sjit               257673 non-null  float64\n",
            " 19  djit               257673 non-null  float64\n",
            " 20  swin               257673 non-null  int64  \n",
            " 21  stcpb              257673 non-null  int64  \n",
            " 22  dtcpb              257673 non-null  int64  \n",
            " 23  dwin               257673 non-null  int64  \n",
            " 24  tcprtt             257673 non-null  float64\n",
            " 25  synack             257673 non-null  float64\n",
            " 26  ackdat             257673 non-null  float64\n",
            " 27  smean              257673 non-null  int64  \n",
            " 28  dmean              257673 non-null  int64  \n",
            " 29  trans_depth        257673 non-null  int64  \n",
            " 30  response_body_len  257673 non-null  int64  \n",
            " 31  ct_srv_src         257673 non-null  int64  \n",
            " 32  ct_state_ttl       257673 non-null  int64  \n",
            " 33  ct_dst_ltm         257673 non-null  int64  \n",
            " 34  ct_src_dport_ltm   257673 non-null  int64  \n",
            " 35  ct_dst_sport_ltm   257673 non-null  int64  \n",
            " 36  ct_dst_src_ltm     257673 non-null  int64  \n",
            " 37  is_ftp_login       257673 non-null  int64  \n",
            " 38  ct_ftp_cmd         257673 non-null  int64  \n",
            " 39  ct_flw_http_mthd   257673 non-null  int64  \n",
            " 40  ct_src_ltm         257673 non-null  int64  \n",
            " 41  ct_srv_dst         257673 non-null  int64  \n",
            " 42  is_sm_ips_ports    257673 non-null  int64  \n",
            " 43  attack_cat         257673 non-null  object \n",
            "dtypes: float64(11), int64(29), object(4)\n",
            "memory usage: 86.5+ MB\n"
          ]
        }
      ],
      "source": [
        "data.info()"
      ]
    },
    {
      "cell_type": "markdown",
      "source": [
        "#### Now check is our obj features contains a lot of text description or just category (in this case can use simple encoding)"
      ],
      "metadata": {
        "id": "NsWWAFIZqc5C"
      }
    },
    {
      "cell_type": "code",
      "execution_count": 4,
      "metadata": {
        "colab": {
          "base_uri": "https://localhost:8080/"
        },
        "id": "MJAxbX0uszE5",
        "outputId": "5bf057cf-b8bf-4f53-d63d-5f8a823d2fee"
      },
      "outputs": [
        {
          "output_type": "stream",
          "name": "stdout",
          "text": [
            "133\n",
            "13\n",
            "11\n",
            "10\n"
          ]
        }
      ],
      "source": [
        "obj = [\"proto\",\"service\",\"state\",\"attack_cat\"] \n",
        "for ob in obj:\n",
        "  print(len(np.unique(data[ob])))"
      ]
    },
    {
      "cell_type": "markdown",
      "source": [
        "### check our features consist of constant values or not (let's say treshhold is 93%)"
      ],
      "metadata": {
        "id": "zs_ObYJAqw8e"
      }
    },
    {
      "cell_type": "code",
      "execution_count": 5,
      "metadata": {
        "id": "DSseX_tCtIEC"
      },
      "outputs": [],
      "source": [
        "import collections\n",
        "from collections import Counter\n",
        "percents_of_consist = []\n",
        "for col in data.columns:\n",
        "  # if len(np.unique(data[col]))==2:\n",
        "  #   print (col )\n",
        "  percents_of_consist.append(Counter( data[col]).most_common(1)[0][1]/len(data))\n",
        "\n",
        "useless_col = np.where(np.array(percents_of_consist)>0.93)[0] \n",
        "data = data.drop(columns = data.columns[useless_col])"
      ]
    },
    {
      "cell_type": "code",
      "execution_count": 6,
      "metadata": {
        "id": "hD_1CPMhwqs1"
      },
      "outputs": [],
      "source": [
        "X_new  = pd.get_dummies(data)\n",
        "percents_of_consist = []\n",
        "for col in X_new.columns:\n",
        "  # if len(np.unique(data[col]))==2:\n",
        "  #   print (col )\n",
        "  percents_of_consist.append(Counter( X_new[col]).most_common(1)[0][1]/len(X_new))\n",
        "\n",
        "useless_col = np.where(np.array(percents_of_consist)>0.93)[0] \n",
        "data = X_new.drop(columns = X_new.columns[useless_col])\n"
      ]
    },
    {
      "cell_type": "code",
      "execution_count": 7,
      "metadata": {
        "id": "g4pYGwWQ3Onz"
      },
      "outputs": [],
      "source": [
        "from sklearn.preprocessing import RobustScaler\n",
        "scaler = RobustScaler()\n",
        "data = scaler.fit_transform(data)"
      ]
    },
    {
      "cell_type": "code",
      "execution_count": 8,
      "metadata": {
        "id": "SfaOClAc3Peg"
      },
      "outputs": [],
      "source": [
        "from sklearn.model_selection import train_test_split\n",
        "X_train, X_test, y_train, y_test = train_test_split( data, y, test_size=0.2, random_state=42)"
      ]
    },
    {
      "cell_type": "markdown",
      "source": [
        "\n",
        "### creation of custom dataset for training \n",
        "\n"
      ],
      "metadata": {
        "id": "xt5PFlWFpIiy"
      }
    },
    {
      "cell_type": "code",
      "execution_count": 9,
      "metadata": {
        "id": "D_rIph0vIy0u"
      },
      "outputs": [],
      "source": [
        "from torch.utils.data import DataLoader, Dataset\n",
        "import torch\n",
        "import torch.nn as nn\n",
        "import torch.optim as optim\n",
        "from torch.utils.data import TensorDataset, DataLoader\n",
        "\n",
        "device = torch.device(\"cuda:0\" if torch.cuda.is_available() else \"cpu\")\n",
        "\n",
        "\n",
        "from torch.autograd import Variable \n",
        "FloatTensor = torch.cuda.FloatTensor if torch.cuda.is_available()  else torch.FloatTensor\n",
        "LongTensor = torch.cuda.LongTensor if torch.cuda.is_available()  else torch.LongTensor \n",
        "\n",
        "class CustomDataset(Dataset):\n",
        "    def __init__(self, x_tensor, y_tensor):\n",
        "        self.x = x_tensor\n",
        "        self.y = y_tensor\n",
        "\n",
        "    def __getitem__(self, index):\n",
        "        return (self.x[index], self.y[index])\n",
        "\n",
        "    def __len__(self):\n",
        "        return len(self.x)\n",
        "\n",
        "x_tensor_train = torch.tensor(X_train).float()\n",
        "x_tensor_test = torch.tensor(X_test).float()\n",
        "y_tensor_train = torch.tensor(y_train.values).float()\n",
        "y_tensor_test = torch.tensor(y_test.values).float()\n",
        "\n",
        "train_dataset = CustomDataset(x_tensor_train,\n",
        "                                y_tensor_train,\n",
        "                               )\n",
        "\n",
        "test_dataset = CustomDataset(x_tensor_test,\n",
        "                               y_tensor_test,\n",
        "                               )\n"
      ]
    },
    {
      "cell_type": "code",
      "source": [
        ""
      ],
      "metadata": {
        "id": "A04S5CfGpO6z"
      },
      "execution_count": null,
      "outputs": []
    },
    {
      "cell_type": "markdown",
      "source": [
        "### Here just set up parameters from paper for G and D - add DropOut to avoid overfitting"
      ],
      "metadata": {
        "id": "ZL9-BUB1pPcw"
      }
    },
    {
      "cell_type": "code",
      "execution_count": 10,
      "metadata": {
        "id": "DY5N5Y_eKONV"
      },
      "outputs": [],
      "source": [
        "class Generator(nn.Module):\n",
        "    def __init__(self, n_classes, latent_dim, input_size):\n",
        "        super(Generator, self).__init__()\n",
        "        self.n_classes = n_classes\n",
        "        self.latent_dim = latent_dim\n",
        "        self.input_size = input_size\n",
        "        self.label_embedding = nn.Embedding(n_classes, n_classes)\n",
        "\n",
        "        def block(in_feat, out_feat, normalize=True):\n",
        "            layers = [nn.Linear(in_feat, out_feat)]\n",
        "            if normalize:\n",
        "                layers.append(nn.BatchNorm1d(out_feat, 0.8))\n",
        "            layers.append(nn.LeakyReLU(0.2, inplace=True))\n",
        "            return layers\n",
        "\n",
        "        self.model = nn.Sequential(\n",
        "            *block(self.latent_dim + self.n_classes, 128, normalize=False),\n",
        "            *block(128, 256),\n",
        "            *block(256, 512),\n",
        "            nn.Linear(512, self.input_size),\n",
        "            nn.Tanh()\n",
        "        )\n",
        "\n",
        "    def forward(self, noise, labels):\n",
        "        # Concatenate label embedding and image to produce input\n",
        "        gen_input = torch.cat((self.label_embedding(labels), noise), -1)\n",
        "        out = self.model(gen_input)\n",
        "#         \n",
        "        return out\n",
        "\n",
        "\n",
        "class Discriminator(nn.Module):\n",
        "    def __init__(self, n_classes, input_size):\n",
        "        super(Discriminator, self).__init__()\n",
        "        self.n_classes = n_classes\n",
        "        self.input_size = input_size\n",
        "        self.label_embedding = nn.Embedding(self.n_classes, self.n_classes)\n",
        "\n",
        "        self.model = nn.Sequential(\n",
        "            nn.Linear(self.n_classes + self.input_size, 512),\n",
        "            nn.LeakyReLU(0.2, inplace=True),\n",
        "            nn.Linear(512, 512),\n",
        "            nn.Dropout(0.2),\n",
        "            nn.LeakyReLU(0.2, inplace=True),\n",
        "            nn.Linear(512, 512),\n",
        "            nn.Dropout(0.2),\n",
        "            nn.LeakyReLU(0.2, inplace=True),\n",
        "            nn.Linear(512, 1),\n",
        "        )\n",
        "\n",
        "    def forward(self, input, labels):\n",
        "        # Concatenate label embedding and image to produce input\n",
        "        d_in = torch.cat((input, self.label_embedding(labels)), -1)\n",
        "        validity = self.model(d_in)\n",
        "        return validity\n"
      ]
    },
    {
      "cell_type": "markdown",
      "source": [
        "### set up parameters"
      ],
      "metadata": {
        "id": "g7vkyV94o9-I"
      }
    },
    {
      "cell_type": "code",
      "execution_count": 11,
      "metadata": {
        "id": "sW_fWmgr7c8U"
      },
      "outputs": [],
      "source": [
        "batchSize = 1000\n",
        "learning_rate = 0.0005\n",
        "num_epochs = 2000\n",
        "input_dim=X_train.shape[1]\n",
        "latent_dim = int(np.sqrt(input_dim))\n",
        "\n",
        "\n",
        "generator = Generator(2, latent_dim, input_dim).to(device)\n",
        "discriminator = Discriminator(2, input_dim).to(device)\n",
        "\n",
        "optimizer_G = torch.optim.Adam(generator.parameters(), lr=0.0005)\n",
        "optimizer_D = torch.optim.Adam(discriminator.parameters(), lr=0.0005)\n",
        "# print(summary(AE,input_size=(1, 64)))\n",
        "\n",
        "adversarial_loss = torch.nn.MSELoss()\n",
        "\n",
        "#Create a random dataset\n",
        "#data_loader = DataLoader(TensorDataset(torch.from_numpy(X_train)), TensorDataset(torch.from_numpy(y_train) ),batch_size=batchSize,shuffle=True)\n",
        "# del full_train\n",
        "\n",
        "data_loader = DataLoader(train_dataset, batch_size=batchSize, shuffle=True)\n",
        "test_loader = DataLoader(test_dataset, batch_size=batchSize, shuffle=False)"
      ]
    },
    {
      "cell_type": "markdown",
      "source": [
        "### Train on just few batches cause colab some limitations"
      ],
      "metadata": {
        "id": "A31OCQdvoznu"
      }
    },
    {
      "cell_type": "code",
      "execution_count": 15,
      "metadata": {
        "colab": {
          "base_uri": "https://localhost:8080/"
        },
        "id": "DJs4lgbp9cAE",
        "outputId": "1d6923b8-09f4-4c2a-e76d-0993be3089c5"
      },
      "outputs": [
        {
          "output_type": "stream",
          "name": "stderr",
          "text": [
            "  0%|          | 0/20 [00:00<?, ?it/s]\n",
            "  0%|          | 0/207 [00:00<?, ?it/s]\u001b[A\n",
            "  2%|▏         | 4/207 [00:00<00:05, 34.72it/s]\u001b[A\n",
            "  4%|▍         | 9/207 [00:00<00:05, 39.47it/s]\u001b[A\n",
            "  6%|▋         | 13/207 [00:00<00:05, 34.30it/s]\u001b[A\n",
            "  8%|▊         | 17/207 [00:00<00:05, 35.74it/s]\u001b[A\n",
            " 11%|█         | 22/207 [00:00<00:04, 37.07it/s]\u001b[A\n",
            " 13%|█▎        | 27/207 [00:00<00:04, 38.74it/s]\u001b[A\n",
            " 16%|█▌        | 33/207 [00:00<00:04, 42.61it/s]\u001b[A\n",
            " 18%|█▊        | 38/207 [00:00<00:03, 43.17it/s]\u001b[A\n",
            " 21%|██        | 43/207 [00:01<00:03, 41.29it/s]\u001b[A\n",
            " 23%|██▎       | 48/207 [00:01<00:03, 43.12it/s]\u001b[A\n",
            " 26%|██▌       | 54/207 [00:01<00:03, 45.13it/s]\u001b[A\n",
            " 29%|██▊       | 59/207 [00:01<00:03, 44.80it/s]\u001b[A\n",
            " 31%|███       | 64/207 [00:01<00:03, 45.27it/s]\u001b[A\n",
            " 33%|███▎      | 69/207 [00:01<00:03, 36.14it/s]\u001b[A\n",
            " 36%|███▌      | 74/207 [00:01<00:03, 37.18it/s]\u001b[A\n",
            " 38%|███▊      | 78/207 [00:02<00:03, 32.58it/s]\u001b[A\n",
            " 40%|███▉      | 82/207 [00:02<00:04, 26.65it/s]\u001b[A\n",
            " 41%|████      | 85/207 [00:02<00:04, 26.38it/s]\u001b[A\n",
            " 43%|████▎     | 90/207 [00:02<00:03, 30.58it/s]\u001b[A\n",
            " 46%|████▋     | 96/207 [00:02<00:03, 36.29it/s]\u001b[A\n",
            " 50%|████▉     | 103/207 [00:02<00:02, 44.32it/s]\u001b[A\n",
            " 54%|█████▎    | 111/207 [00:02<00:01, 51.74it/s]\u001b[A\n",
            " 57%|█████▋    | 117/207 [00:02<00:01, 47.78it/s]\u001b[A\n",
            " 61%|██████    | 126/207 [00:03<00:01, 56.63it/s]\u001b[A\n",
            " 65%|██████▍   | 134/207 [00:03<00:01, 61.76it/s]\u001b[A\n",
            " 69%|██████▊   | 142/207 [00:03<00:00, 65.74it/s]\u001b[A\n",
            " 72%|███████▏  | 150/207 [00:03<00:00, 68.98it/s]\u001b[A\n",
            " 77%|███████▋  | 159/207 [00:03<00:00, 73.16it/s]\u001b[A\n",
            " 81%|████████  | 167/207 [00:03<00:00, 62.71it/s]\u001b[A\n",
            " 85%|████████▌ | 176/207 [00:03<00:00, 67.56it/s]\u001b[A\n",
            " 89%|████████▉ | 184/207 [00:03<00:00, 69.19it/s]\u001b[A\n",
            " 93%|█████████▎| 193/207 [00:03<00:00, 73.28it/s]\u001b[A\n",
            "100%|██████████| 207/207 [00:04<00:00, 48.58it/s]\n",
            "  5%|▌         | 1/20 [00:04<01:21,  4.27s/it]\n",
            "  0%|          | 0/207 [00:00<?, ?it/s]\u001b[A\n",
            "  4%|▍         | 8/207 [00:00<00:02, 74.32it/s]\u001b[A\n",
            "  8%|▊         | 16/207 [00:00<00:02, 77.20it/s]\u001b[A\n",
            " 12%|█▏        | 25/207 [00:00<00:02, 79.82it/s]\u001b[A\n",
            " 16%|█▋        | 34/207 [00:00<00:02, 80.46it/s]\u001b[A\n",
            " 21%|██        | 43/207 [00:00<00:02, 65.54it/s]\u001b[A\n",
            " 25%|██▌       | 52/207 [00:00<00:02, 70.91it/s]\u001b[A\n",
            " 29%|██▉       | 60/207 [00:00<00:02, 73.01it/s]\u001b[A\n",
            " 33%|███▎      | 68/207 [00:00<00:01, 73.72it/s]\u001b[A\n",
            " 37%|███▋      | 77/207 [00:01<00:01, 75.64it/s]\u001b[A\n",
            " 41%|████      | 85/207 [00:01<00:01, 64.37it/s]\u001b[A\n",
            " 45%|████▍     | 93/207 [00:01<00:01, 68.01it/s]\u001b[A\n",
            " 49%|████▉     | 102/207 [00:01<00:01, 72.18it/s]\u001b[A\n",
            " 54%|█████▎    | 111/207 [00:01<00:01, 75.23it/s]\u001b[A\n",
            " 58%|█████▊    | 120/207 [00:01<00:01, 77.28it/s]\u001b[A\n",
            " 62%|██████▏   | 128/207 [00:01<00:01, 64.14it/s]\u001b[A\n",
            " 66%|██████▌   | 136/207 [00:01<00:01, 67.57it/s]\u001b[A\n",
            " 70%|███████   | 145/207 [00:02<00:00, 72.27it/s]\u001b[A\n",
            " 74%|███████▍  | 153/207 [00:02<00:00, 73.84it/s]\u001b[A\n",
            " 78%|███████▊  | 161/207 [00:02<00:00, 73.82it/s]\u001b[A\n",
            " 82%|████████▏ | 169/207 [00:02<00:00, 63.15it/s]\u001b[A\n",
            " 86%|████████▌ | 178/207 [00:02<00:00, 68.81it/s]\u001b[A\n",
            " 90%|█████████ | 187/207 [00:02<00:00, 73.12it/s]\u001b[A\n",
            " 94%|█████████▍| 195/207 [00:02<00:00, 73.39it/s]\u001b[A\n",
            "100%|██████████| 207/207 [00:02<00:00, 70.06it/s]\n",
            " 10%|█         | 2/20 [00:07<01:03,  3.51s/it]\n",
            "  0%|          | 0/207 [00:00<?, ?it/s]\u001b[A\n",
            "  4%|▍         | 8/207 [00:00<00:02, 74.99it/s]\u001b[A\n",
            "  8%|▊         | 17/207 [00:00<00:02, 80.19it/s]\u001b[A\n",
            " 13%|█▎        | 26/207 [00:00<00:02, 82.33it/s]\u001b[A\n",
            " 17%|█▋        | 35/207 [00:00<00:02, 80.76it/s]\u001b[A\n",
            " 21%|██▏       | 44/207 [00:00<00:02, 65.79it/s]\u001b[A\n",
            " 26%|██▌       | 53/207 [00:00<00:02, 70.32it/s]\u001b[A\n",
            " 30%|██▉       | 62/207 [00:00<00:01, 74.43it/s]\u001b[A\n",
            " 34%|███▍      | 71/207 [00:00<00:01, 77.41it/s]\u001b[A\n",
            " 38%|███▊      | 79/207 [00:01<00:01, 77.85it/s]\u001b[A\n",
            " 42%|████▏     | 87/207 [00:01<00:01, 66.08it/s]\u001b[A\n",
            " 46%|████▋     | 96/207 [00:01<00:01, 70.48it/s]\u001b[A\n",
            " 51%|█████     | 105/207 [00:01<00:01, 73.85it/s]\u001b[A\n",
            " 55%|█████▌    | 114/207 [00:01<00:01, 76.83it/s]\u001b[A\n",
            " 59%|█████▉    | 123/207 [00:01<00:01, 78.18it/s]\u001b[A\n",
            " 63%|██████▎   | 131/207 [00:01<00:01, 65.05it/s]\u001b[A\n",
            " 68%|██████▊   | 140/207 [00:01<00:00, 69.49it/s]\u001b[A\n",
            " 71%|███████▏  | 148/207 [00:02<00:00, 71.53it/s]\u001b[A\n",
            " 75%|███████▌  | 156/207 [00:02<00:00, 73.40it/s]\u001b[A\n",
            " 80%|███████▉  | 165/207 [00:02<00:00, 76.28it/s]\u001b[A\n",
            " 84%|████████▎ | 173/207 [00:02<00:00, 64.26it/s]\u001b[A\n",
            " 88%|████████▊ | 182/207 [00:02<00:00, 68.98it/s]\u001b[A\n",
            " 92%|█████████▏| 191/207 [00:02<00:00, 73.31it/s]\u001b[A\n",
            "100%|██████████| 207/207 [00:02<00:00, 72.98it/s]\n",
            " 15%|█▌        | 3/20 [00:10<00:54,  3.20s/it]\n",
            "  0%|          | 0/207 [00:00<?, ?it/s]\u001b[A\n",
            "  2%|▏         | 4/207 [00:00<00:06, 30.49it/s]\u001b[A\n",
            "  6%|▌         | 12/207 [00:00<00:03, 54.80it/s]\u001b[A\n",
            " 10%|█         | 21/207 [00:00<00:02, 67.21it/s]\u001b[A\n",
            " 14%|█▍        | 30/207 [00:00<00:02, 72.94it/s]\u001b[A\n",
            " 19%|█▉        | 39/207 [00:00<00:02, 75.93it/s]\u001b[A\n",
            " 23%|██▎       | 47/207 [00:00<00:02, 63.87it/s]\u001b[A\n",
            " 27%|██▋       | 56/207 [00:00<00:02, 69.49it/s]\u001b[A\n",
            " 31%|███       | 64/207 [00:00<00:01, 72.03it/s]\u001b[A\n",
            " 35%|███▌      | 73/207 [00:01<00:01, 75.07it/s]\u001b[A\n",
            " 40%|███▉      | 82/207 [00:01<00:01, 77.23it/s]\u001b[A\n",
            " 43%|████▎     | 90/207 [00:01<00:01, 63.59it/s]\u001b[A\n",
            " 47%|████▋     | 98/207 [00:01<00:01, 67.42it/s]\u001b[A\n",
            " 51%|█████     | 106/207 [00:01<00:01, 69.27it/s]\u001b[A\n",
            " 56%|█████▌    | 115/207 [00:01<00:01, 73.42it/s]\u001b[A\n",
            " 60%|█████▉    | 124/207 [00:01<00:01, 76.77it/s]\u001b[A\n",
            " 64%|██████▍   | 132/207 [00:01<00:01, 65.31it/s]\u001b[A\n",
            " 68%|██████▊   | 141/207 [00:02<00:00, 69.89it/s]\u001b[A\n",
            " 72%|███████▏  | 150/207 [00:02<00:00, 73.32it/s]\u001b[A\n",
            " 76%|███████▋  | 158/207 [00:02<00:00, 73.20it/s]\u001b[A\n",
            " 81%|████████  | 167/207 [00:02<00:00, 75.75it/s]\u001b[A\n",
            " 85%|████████▍ | 175/207 [00:02<00:00, 65.05it/s]\u001b[A\n",
            " 89%|████████▉ | 184/207 [00:02<00:00, 70.20it/s]\u001b[A\n",
            " 93%|█████████▎| 193/207 [00:02<00:00, 73.89it/s]\u001b[A\n",
            "100%|██████████| 207/207 [00:02<00:00, 70.66it/s]\n",
            " 20%|██        | 4/20 [00:13<00:49,  3.10s/it]\n",
            "  0%|          | 0/207 [00:00<?, ?it/s]\u001b[A\n",
            "  4%|▍         | 8/207 [00:00<00:04, 44.98it/s]\u001b[A\n",
            "  8%|▊         | 16/207 [00:00<00:03, 59.90it/s]\u001b[A\n",
            " 12%|█▏        | 24/207 [00:00<00:02, 67.18it/s]\u001b[A\n",
            " 15%|█▌        | 32/207 [00:00<00:02, 71.57it/s]\u001b[A\n",
            " 19%|█▉        | 40/207 [00:00<00:02, 72.87it/s]\u001b[A\n",
            " 23%|██▎       | 48/207 [00:00<00:02, 74.25it/s]\u001b[A\n",
            " 27%|██▋       | 56/207 [00:00<00:02, 61.25it/s]\u001b[A\n",
            " 31%|███       | 64/207 [00:00<00:02, 65.24it/s]\u001b[A\n",
            " 35%|███▍      | 72/207 [00:01<00:01, 69.05it/s]\u001b[A\n",
            " 39%|███▊      | 80/207 [00:01<00:01, 70.03it/s]\u001b[A\n",
            " 43%|████▎     | 88/207 [00:01<00:01, 72.15it/s]\u001b[A\n",
            " 46%|████▋     | 96/207 [00:01<00:01, 59.27it/s]\u001b[A\n",
            " 50%|█████     | 104/207 [00:01<00:01, 62.53it/s]\u001b[A\n",
            " 54%|█████▍    | 112/207 [00:01<00:01, 65.22it/s]\u001b[A\n",
            " 58%|█████▊    | 120/207 [00:01<00:01, 67.33it/s]\u001b[A\n",
            " 62%|██████▏   | 128/207 [00:01<00:01, 70.67it/s]\u001b[A\n",
            " 66%|██████▌   | 136/207 [00:02<00:01, 60.83it/s]\u001b[A\n",
            " 70%|███████   | 145/207 [00:02<00:00, 66.42it/s]\u001b[A\n",
            " 74%|███████▍  | 154/207 [00:02<00:00, 70.85it/s]\u001b[A\n",
            " 78%|███████▊  | 162/207 [00:02<00:00, 72.17it/s]\u001b[A\n",
            " 83%|████████▎ | 171/207 [00:02<00:00, 74.88it/s]\u001b[A\n",
            " 86%|████████▋ | 179/207 [00:02<00:00, 64.09it/s]\u001b[A\n",
            " 91%|█████████ | 188/207 [00:02<00:00, 69.28it/s]\u001b[A\n",
            " 95%|█████████▌| 197/207 [00:02<00:00, 73.01it/s]\u001b[A\n",
            "100%|██████████| 207/207 [00:03<00:00, 67.87it/s]\n",
            " 25%|██▌       | 5/20 [00:16<00:46,  3.09s/it]\n",
            "  0%|          | 0/207 [00:00<?, ?it/s]\u001b[A\n",
            "  4%|▍         | 8/207 [00:00<00:02, 76.88it/s]\u001b[A\n",
            "  8%|▊         | 16/207 [00:00<00:03, 54.79it/s]\u001b[A\n",
            " 12%|█▏        | 24/207 [00:00<00:02, 63.31it/s]\u001b[A\n",
            " 15%|█▌        | 32/207 [00:00<00:02, 68.95it/s]\u001b[A\n",
            " 20%|█▉        | 41/207 [00:00<00:02, 73.28it/s]\u001b[A\n",
            " 24%|██▍       | 50/207 [00:00<00:02, 76.19it/s]\u001b[A\n",
            " 28%|██▊       | 58/207 [00:00<00:02, 63.98it/s]\u001b[A\n",
            " 32%|███▏      | 67/207 [00:00<00:02, 69.15it/s]\u001b[A\n",
            " 37%|███▋      | 76/207 [00:01<00:01, 73.14it/s]\u001b[A\n",
            " 41%|████      | 84/207 [00:01<00:01, 74.83it/s]\u001b[A\n",
            " 45%|████▍     | 93/207 [00:01<00:01, 76.57it/s]\u001b[A\n",
            " 49%|████▉     | 101/207 [00:01<00:01, 64.76it/s]\u001b[A\n",
            " 53%|█████▎    | 110/207 [00:01<00:01, 69.27it/s]\u001b[A\n",
            " 57%|█████▋    | 119/207 [00:01<00:01, 72.68it/s]\u001b[A\n",
            " 62%|██████▏   | 128/207 [00:01<00:01, 75.40it/s]\u001b[A\n",
            " 66%|██████▌   | 137/207 [00:01<00:00, 77.34it/s]\u001b[A\n",
            " 70%|███████   | 145/207 [00:02<00:00, 65.59it/s]\u001b[A\n",
            " 74%|███████▍  | 154/207 [00:02<00:00, 69.88it/s]\u001b[A\n",
            " 79%|███████▊  | 163/207 [00:02<00:00, 73.09it/s]\u001b[A\n",
            " 83%|████████▎ | 171/207 [00:02<00:00, 73.27it/s]\u001b[A\n",
            " 87%|████████▋ | 180/207 [00:02<00:00, 63.50it/s]\u001b[A\n",
            " 91%|█████████▏| 189/207 [00:02<00:00, 68.57it/s]\u001b[A\n",
            " 96%|█████████▌| 198/207 [00:02<00:00, 72.36it/s]\u001b[A\n",
            "100%|██████████| 207/207 [00:02<00:00, 70.56it/s]\n",
            " 30%|███       | 6/20 [00:19<00:42,  3.04s/it]\n",
            "  0%|          | 0/207 [00:00<?, ?it/s]\u001b[A\n",
            "  4%|▍         | 8/207 [00:00<00:02, 75.34it/s]\u001b[A\n",
            "  8%|▊         | 16/207 [00:00<00:03, 55.63it/s]\u001b[A\n",
            " 12%|█▏        | 24/207 [00:00<00:02, 64.09it/s]\u001b[A\n",
            " 15%|█▌        | 32/207 [00:00<00:02, 69.19it/s]\u001b[A\n",
            " 19%|█▉        | 40/207 [00:00<00:02, 72.03it/s]\u001b[A\n",
            " 24%|██▎       | 49/207 [00:00<00:02, 75.74it/s]\u001b[A\n",
            " 28%|██▊       | 58/207 [00:00<00:02, 64.56it/s]\u001b[A\n",
            " 32%|███▏      | 66/207 [00:00<00:02, 68.55it/s]\u001b[A\n",
            " 36%|███▌      | 75/207 [00:01<00:01, 72.88it/s]\u001b[A\n",
            " 41%|████      | 84/207 [00:01<00:01, 75.62it/s]\u001b[A\n",
            " 45%|████▍     | 93/207 [00:01<00:01, 77.88it/s]\u001b[A\n",
            " 49%|████▉     | 101/207 [00:01<00:01, 62.49it/s]\u001b[A\n",
            " 53%|█████▎    | 109/207 [00:01<00:01, 66.39it/s]\u001b[A\n",
            " 57%|█████▋    | 118/207 [00:01<00:01, 70.86it/s]\u001b[A\n",
            " 61%|██████    | 126/207 [00:01<00:01, 73.16it/s]\u001b[A\n",
            " 65%|██████▍   | 134/207 [00:02<00:01, 54.33it/s]\u001b[A\n",
            " 68%|██████▊   | 141/207 [00:02<00:01, 44.26it/s]\u001b[A\n",
            " 71%|███████   | 147/207 [00:02<00:01, 41.69it/s]\u001b[A\n",
            " 75%|███████▌  | 156/207 [00:02<00:01, 49.94it/s]\u001b[A\n",
            " 79%|███████▉  | 164/207 [00:02<00:00, 56.11it/s]\u001b[A\n",
            " 84%|████████▎ | 173/207 [00:02<00:00, 62.51it/s]\u001b[A\n",
            " 88%|████████▊ | 182/207 [00:02<00:00, 67.64it/s]\u001b[A\n",
            " 92%|█████████▏| 190/207 [00:03<00:00, 60.02it/s]\u001b[A\n",
            " 96%|█████████▌| 199/207 [00:03<00:00, 65.25it/s]\u001b[A\n",
            "100%|██████████| 207/207 [00:03<00:00, 62.99it/s]\n",
            " 35%|███▌      | 7/20 [00:22<00:40,  3.12s/it]\n",
            "  0%|          | 0/207 [00:00<?, ?it/s]\u001b[A\n",
            "  4%|▍         | 8/207 [00:00<00:02, 73.79it/s]\u001b[A\n",
            "  8%|▊         | 16/207 [00:00<00:02, 74.58it/s]\u001b[A\n",
            " 12%|█▏        | 24/207 [00:00<00:03, 58.27it/s]\u001b[A\n",
            " 16%|█▌        | 33/207 [00:00<00:02, 66.93it/s]\u001b[A\n",
            " 20%|██        | 42/207 [00:00<00:02, 72.52it/s]\u001b[A\n",
            " 25%|██▍       | 51/207 [00:00<00:02, 75.58it/s]\u001b[A\n",
            " 29%|██▉       | 60/207 [00:00<00:01, 77.68it/s]\u001b[A\n",
            " 33%|███▎      | 68/207 [00:00<00:02, 64.24it/s]\u001b[A\n",
            " 37%|███▋      | 77/207 [00:01<00:01, 69.48it/s]\u001b[A\n",
            " 41%|████      | 85/207 [00:01<00:01, 71.03it/s]\u001b[A\n",
            " 45%|████▍     | 93/207 [00:01<00:01, 72.82it/s]\u001b[A\n",
            " 49%|████▉     | 102/207 [00:01<00:01, 75.60it/s]\u001b[A\n",
            " 53%|█████▎    | 110/207 [00:01<00:01, 64.54it/s]\u001b[A\n",
            " 57%|█████▋    | 119/207 [00:01<00:01, 69.49it/s]\u001b[A\n",
            " 62%|██████▏   | 128/207 [00:01<00:01, 73.11it/s]\u001b[A\n",
            " 66%|██████▌   | 136/207 [00:01<00:00, 74.01it/s]\u001b[A\n",
            " 70%|██████▉   | 144/207 [00:02<00:00, 74.00it/s]\u001b[A\n",
            " 73%|███████▎  | 152/207 [00:02<00:00, 62.88it/s]\u001b[A\n",
            " 78%|███████▊  | 161/207 [00:02<00:00, 67.83it/s]\u001b[A\n",
            " 82%|████████▏ | 170/207 [00:02<00:00, 71.68it/s]\u001b[A\n",
            " 86%|████████▋ | 179/207 [00:02<00:00, 74.47it/s]\u001b[A\n",
            " 91%|█████████ | 188/207 [00:02<00:00, 64.88it/s]\u001b[A\n",
            " 95%|█████████▍| 196/207 [00:02<00:00, 68.08it/s]\u001b[A\n",
            "100%|██████████| 207/207 [00:02<00:00, 69.96it/s]\n",
            " 40%|████      | 8/20 [00:25<00:36,  3.08s/it]\n",
            "  0%|          | 0/207 [00:00<?, ?it/s]\u001b[A\n",
            "  4%|▍         | 8/207 [00:00<00:02, 71.58it/s]\u001b[A\n",
            "  8%|▊         | 17/207 [00:00<00:02, 76.72it/s]\u001b[A\n",
            " 12%|█▏        | 25/207 [00:00<00:03, 58.35it/s]\u001b[A\n",
            " 16%|█▋        | 34/207 [00:00<00:02, 65.99it/s]\u001b[A\n",
            " 21%|██        | 43/207 [00:00<00:02, 70.99it/s]\u001b[A\n",
            " 25%|██▍       | 51/207 [00:00<00:02, 72.67it/s]\u001b[A\n",
            " 29%|██▉       | 60/207 [00:00<00:01, 75.43it/s]\u001b[A\n",
            " 33%|███▎      | 68/207 [00:01<00:02, 62.31it/s]\u001b[A\n",
            " 37%|███▋      | 76/207 [00:01<00:01, 66.68it/s]\u001b[A\n",
            " 41%|████      | 85/207 [00:01<00:01, 70.95it/s]\u001b[A\n",
            " 45%|████▍     | 93/207 [00:01<00:01, 71.52it/s]\u001b[A\n",
            " 49%|████▉     | 102/207 [00:01<00:01, 74.46it/s]\u001b[A\n",
            " 53%|█████▎    | 110/207 [00:01<00:01, 64.05it/s]\u001b[A\n",
            " 57%|█████▋    | 119/207 [00:01<00:01, 69.00it/s]\u001b[A\n",
            " 62%|██████▏   | 128/207 [00:01<00:01, 72.76it/s]\u001b[A\n",
            " 66%|██████▌   | 136/207 [00:01<00:00, 74.03it/s]\u001b[A\n",
            " 70%|██████▉   | 144/207 [00:02<00:00, 75.04it/s]\u001b[A\n",
            " 73%|███████▎  | 152/207 [00:02<00:00, 63.69it/s]\u001b[A\n",
            " 77%|███████▋  | 160/207 [00:02<00:00, 66.54it/s]\u001b[A\n",
            " 82%|████████▏ | 169/207 [00:02<00:00, 71.11it/s]\u001b[A\n",
            " 86%|████████▌ | 178/207 [00:02<00:00, 74.57it/s]\u001b[A\n",
            " 90%|█████████ | 187/207 [00:02<00:00, 76.89it/s]\u001b[A\n",
            " 94%|█████████▍| 195/207 [00:02<00:00, 65.57it/s]\u001b[A\n",
            "100%|██████████| 207/207 [00:02<00:00, 69.34it/s]\n",
            " 45%|████▌     | 9/20 [00:28<00:33,  3.05s/it]\n",
            "  0%|          | 0/207 [00:00<?, ?it/s]\u001b[A\n",
            "  4%|▍         | 8/207 [00:00<00:02, 71.76it/s]\u001b[A\n",
            "  8%|▊         | 16/207 [00:00<00:02, 76.12it/s]\u001b[A\n",
            " 12%|█▏        | 24/207 [00:00<00:02, 75.48it/s]\u001b[A\n",
            " 15%|█▌        | 32/207 [00:00<00:02, 60.16it/s]\u001b[A\n",
            " 19%|█▉        | 40/207 [00:00<00:02, 66.05it/s]\u001b[A\n",
            " 23%|██▎       | 48/207 [00:00<00:02, 70.21it/s]\u001b[A\n",
            " 28%|██▊       | 57/207 [00:00<00:02, 74.02it/s]\u001b[A\n",
            " 32%|███▏      | 66/207 [00:00<00:01, 76.20it/s]\u001b[A\n",
            " 36%|███▌      | 74/207 [00:01<00:02, 62.84it/s]\u001b[A\n",
            " 40%|███▉      | 82/207 [00:01<00:01, 66.78it/s]\u001b[A\n",
            " 44%|████▍     | 91/207 [00:01<00:01, 69.72it/s]\u001b[A\n",
            " 48%|████▊     | 99/207 [00:01<00:01, 72.36it/s]\u001b[A\n",
            " 52%|█████▏    | 107/207 [00:01<00:01, 74.15it/s]\u001b[A\n",
            " 56%|█████▌    | 115/207 [00:01<00:01, 63.03it/s]\u001b[A\n",
            " 60%|█████▉    | 124/207 [00:01<00:01, 68.07it/s]\u001b[A\n",
            " 64%|██████▍   | 133/207 [00:01<00:01, 71.65it/s]\u001b[A\n",
            " 68%|██████▊   | 141/207 [00:02<00:00, 72.57it/s]\u001b[A\n",
            " 72%|███████▏  | 149/207 [00:02<00:00, 73.32it/s]\u001b[A\n",
            " 76%|███████▌  | 157/207 [00:02<00:00, 63.74it/s]\u001b[A\n",
            " 80%|███████▉  | 165/207 [00:02<00:00, 66.12it/s]\u001b[A\n",
            " 84%|████████▍ | 174/207 [00:02<00:00, 70.74it/s]\u001b[A\n",
            " 88%|████████▊ | 183/207 [00:02<00:00, 74.54it/s]\u001b[A\n",
            " 93%|█████████▎| 192/207 [00:02<00:00, 76.84it/s]\u001b[A\n",
            "100%|██████████| 207/207 [00:02<00:00, 69.27it/s]\n",
            " 50%|█████     | 10/20 [00:31<00:30,  3.04s/it]\n",
            "  0%|          | 0/207 [00:00<?, ?it/s]\u001b[A\n",
            "  4%|▍         | 8/207 [00:00<00:02, 73.64it/s]\u001b[A\n",
            "  8%|▊         | 17/207 [00:00<00:02, 79.69it/s]\u001b[A\n",
            " 13%|█▎        | 26/207 [00:00<00:02, 80.92it/s]\u001b[A\n",
            " 17%|█▋        | 35/207 [00:00<00:02, 63.67it/s]\u001b[A\n",
            " 21%|██        | 43/207 [00:00<00:02, 67.89it/s]\u001b[A\n",
            " 25%|██▌       | 52/207 [00:00<00:02, 71.22it/s]\u001b[A\n",
            " 29%|██▉       | 60/207 [00:00<00:02, 73.48it/s]\u001b[A\n",
            " 33%|███▎      | 68/207 [00:00<00:01, 74.55it/s]\u001b[A\n",
            " 37%|███▋      | 76/207 [00:01<00:02, 62.09it/s]\u001b[A\n",
            " 41%|████      | 85/207 [00:01<00:01, 67.72it/s]\u001b[A\n",
            " 45%|████▌     | 94/207 [00:01<00:01, 71.91it/s]\u001b[A\n",
            " 49%|████▉     | 102/207 [00:01<00:01, 73.47it/s]\u001b[A\n",
            " 53%|█████▎    | 110/207 [00:01<00:01, 74.99it/s]\u001b[A\n",
            " 57%|█████▋    | 118/207 [00:01<00:01, 64.00it/s]\u001b[A\n",
            " 61%|██████▏   | 127/207 [00:01<00:01, 68.65it/s]\u001b[A\n",
            " 65%|██████▌   | 135/207 [00:01<00:01, 71.52it/s]\u001b[A\n",
            " 69%|██████▉   | 143/207 [00:02<00:00, 70.47it/s]\u001b[A\n",
            " 73%|███████▎  | 152/207 [00:02<00:00, 73.75it/s]\u001b[A\n",
            " 77%|███████▋  | 160/207 [00:02<00:00, 62.92it/s]\u001b[A\n",
            " 81%|████████  | 168/207 [00:02<00:00, 65.93it/s]\u001b[A\n",
            " 85%|████████▌ | 176/207 [00:02<00:00, 68.42it/s]\u001b[A\n",
            " 89%|████████▉ | 184/207 [00:02<00:00, 70.78it/s]\u001b[A\n",
            " 93%|█████████▎| 192/207 [00:02<00:00, 73.14it/s]\u001b[A\n",
            "100%|██████████| 207/207 [00:03<00:00, 68.92it/s]\n",
            " 55%|█████▌    | 11/20 [00:34<00:27,  3.03s/it]\n",
            "  0%|          | 0/207 [00:00<?, ?it/s]\u001b[A\n",
            "  4%|▍         | 8/207 [00:00<00:02, 72.70it/s]\u001b[A\n",
            "  8%|▊         | 16/207 [00:00<00:02, 76.16it/s]\u001b[A\n",
            " 12%|█▏        | 25/207 [00:00<00:02, 78.26it/s]\u001b[A\n",
            " 16%|█▌        | 33/207 [00:00<00:02, 77.10it/s]\u001b[A\n",
            " 20%|█▉        | 41/207 [00:00<00:02, 62.24it/s]\u001b[A\n",
            " 24%|██▎       | 49/207 [00:00<00:02, 66.83it/s]\u001b[A\n",
            " 28%|██▊       | 57/207 [00:00<00:02, 69.94it/s]\u001b[A\n",
            " 31%|███▏      | 65/207 [00:00<00:01, 72.02it/s]\u001b[A\n",
            " 36%|███▌      | 74/207 [00:01<00:01, 75.11it/s]\u001b[A\n",
            " 40%|███▉      | 82/207 [00:01<00:01, 63.34it/s]\u001b[A\n",
            " 44%|████▍     | 91/207 [00:01<00:01, 68.00it/s]\u001b[A\n",
            " 48%|████▊     | 99/207 [00:01<00:01, 70.20it/s]\u001b[A\n",
            " 52%|█████▏    | 108/207 [00:01<00:01, 72.81it/s]\u001b[A\n",
            " 57%|█████▋    | 117/207 [00:01<00:01, 75.34it/s]\u001b[A\n",
            " 60%|██████    | 125/207 [00:01<00:01, 64.33it/s]\u001b[A\n",
            " 64%|██████▍   | 133/207 [00:01<00:01, 67.70it/s]\u001b[A\n",
            " 69%|██████▊   | 142/207 [00:02<00:00, 71.52it/s]\u001b[A\n",
            " 72%|███████▏  | 150/207 [00:02<00:00, 73.09it/s]\u001b[A\n",
            " 76%|███████▋  | 158/207 [00:02<00:00, 74.51it/s]\u001b[A\n",
            " 80%|████████  | 166/207 [00:02<00:00, 63.42it/s]\u001b[A\n",
            " 84%|████████▍ | 174/207 [00:02<00:00, 66.51it/s]\u001b[A\n",
            " 88%|████████▊ | 182/207 [00:02<00:00, 69.59it/s]\u001b[A\n",
            " 92%|█████████▏| 190/207 [00:02<00:00, 71.70it/s]\u001b[A\n",
            " 96%|█████████▌| 198/207 [00:02<00:00, 73.76it/s]\u001b[A\n",
            "100%|██████████| 207/207 [00:03<00:00, 68.71it/s]\n",
            " 60%|██████    | 12/20 [00:37<00:24,  3.03s/it]\n",
            "  0%|          | 0/207 [00:00<?, ?it/s]\u001b[A\n",
            "  4%|▍         | 8/207 [00:00<00:02, 76.83it/s]\u001b[A\n",
            "  8%|▊         | 17/207 [00:00<00:02, 79.60it/s]\u001b[A\n",
            " 12%|█▏        | 25/207 [00:00<00:02, 78.97it/s]\u001b[A\n",
            " 16%|█▌        | 33/207 [00:00<00:02, 76.94it/s]\u001b[A\n",
            " 20%|█▉        | 41/207 [00:00<00:02, 61.87it/s]\u001b[A\n",
            " 24%|██▎       | 49/207 [00:00<00:02, 66.83it/s]\u001b[A\n",
            " 28%|██▊       | 57/207 [00:01<00:03, 39.12it/s]\u001b[A\n",
            " 30%|███       | 63/207 [00:01<00:03, 40.77it/s]\u001b[A\n",
            " 34%|███▍      | 71/207 [00:01<00:02, 48.36it/s]\u001b[A\n",
            " 39%|███▊      | 80/207 [00:01<00:02, 56.56it/s]\u001b[A\n",
            " 42%|████▏     | 87/207 [00:01<00:02, 51.96it/s]\u001b[A\n",
            " 46%|████▌     | 95/207 [00:01<00:01, 57.69it/s]\u001b[A\n",
            " 49%|████▉     | 102/207 [00:01<00:02, 42.45it/s]\u001b[A\n",
            " 52%|█████▏    | 108/207 [00:02<00:02, 38.80it/s]\u001b[A\n",
            " 56%|█████▌    | 116/207 [00:02<00:01, 46.20it/s]\u001b[A\n",
            " 60%|█████▉    | 124/207 [00:02<00:01, 46.17it/s]\u001b[A\n",
            " 64%|██████▍   | 132/207 [00:02<00:01, 52.10it/s]\u001b[A\n",
            " 68%|██████▊   | 140/207 [00:02<00:01, 57.72it/s]\u001b[A\n",
            " 71%|███████▏  | 148/207 [00:02<00:00, 62.81it/s]\u001b[A\n",
            " 76%|███████▌  | 157/207 [00:02<00:00, 67.96it/s]\u001b[A\n",
            " 80%|████████  | 166/207 [00:03<00:00, 60.20it/s]\u001b[A\n",
            " 84%|████████▍ | 174/207 [00:03<00:00, 64.78it/s]\u001b[A\n",
            " 88%|████████▊ | 183/207 [00:03<00:00, 69.38it/s]\u001b[A\n",
            " 92%|█████████▏| 191/207 [00:03<00:00, 71.91it/s]\u001b[A\n",
            "100%|██████████| 207/207 [00:03<00:00, 57.83it/s]\n",
            " 65%|██████▌   | 13/20 [00:40<00:22,  3.20s/it]\n",
            "  0%|          | 0/207 [00:00<?, ?it/s]\u001b[A\n",
            "  1%|          | 2/207 [00:00<00:11, 17.92it/s]\u001b[A\n",
            "  5%|▍         | 10/207 [00:00<00:03, 51.63it/s]\u001b[A\n",
            "  9%|▉         | 19/207 [00:00<00:02, 65.65it/s]\u001b[A\n",
            " 13%|█▎        | 27/207 [00:00<00:02, 70.06it/s]\u001b[A\n",
            " 17%|█▋        | 35/207 [00:00<00:02, 71.59it/s]\u001b[A\n",
            " 21%|██        | 43/207 [00:00<00:02, 73.69it/s]\u001b[A\n",
            " 25%|██▍       | 51/207 [00:00<00:02, 61.53it/s]\u001b[A\n",
            " 29%|██▊       | 59/207 [00:00<00:02, 65.90it/s]\u001b[A\n",
            " 32%|███▏      | 67/207 [00:01<00:02, 69.07it/s]\u001b[A\n",
            " 37%|███▋      | 76/207 [00:01<00:01, 73.05it/s]\u001b[A\n",
            " 41%|████      | 85/207 [00:01<00:01, 75.73it/s]\u001b[A\n",
            " 45%|████▍     | 93/207 [00:01<00:01, 63.34it/s]\u001b[A\n",
            " 49%|████▉     | 101/207 [00:01<00:01, 67.41it/s]\u001b[A\n",
            " 53%|█████▎    | 109/207 [00:01<00:01, 70.67it/s]\u001b[A\n",
            " 57%|█████▋    | 118/207 [00:01<00:01, 73.22it/s]\u001b[A\n",
            " 61%|██████    | 126/207 [00:01<00:01, 74.87it/s]\u001b[A\n",
            " 65%|██████▍   | 134/207 [00:02<00:01, 62.60it/s]\u001b[A\n",
            " 69%|██████▊   | 142/207 [00:02<00:00, 65.96it/s]\u001b[A\n",
            " 73%|███████▎  | 151/207 [00:02<00:00, 70.16it/s]\u001b[A\n",
            " 77%|███████▋  | 159/207 [00:02<00:00, 72.55it/s]\u001b[A\n",
            " 81%|████████  | 167/207 [00:02<00:00, 74.54it/s]\u001b[A\n",
            " 85%|████████▍ | 175/207 [00:02<00:00, 62.97it/s]\u001b[A\n",
            " 88%|████████▊ | 182/207 [00:02<00:00, 63.91it/s]\u001b[A\n",
            " 92%|█████████▏| 190/207 [00:02<00:00, 67.97it/s]\u001b[A\n",
            " 96%|█████████▌| 198/207 [00:02<00:00, 70.50it/s]\u001b[A\n",
            "100%|██████████| 207/207 [00:03<00:00, 67.91it/s]\n",
            " 70%|███████   | 14/20 [00:43<00:18,  3.16s/it]\n",
            "  0%|          | 0/207 [00:00<?, ?it/s]\u001b[A\n",
            "  3%|▎         | 6/207 [00:00<00:05, 37.56it/s]\u001b[A\n",
            "  6%|▋         | 13/207 [00:00<00:03, 52.64it/s]\u001b[A\n",
            " 10%|█         | 21/207 [00:00<00:02, 63.38it/s]\u001b[A\n",
            " 14%|█▍        | 29/207 [00:00<00:02, 68.26it/s]\u001b[A\n",
            " 18%|█▊        | 38/207 [00:00<00:02, 72.99it/s]\u001b[A\n",
            " 22%|██▏       | 46/207 [00:00<00:02, 74.30it/s]\u001b[A\n",
            " 26%|██▌       | 54/207 [00:00<00:02, 61.75it/s]\u001b[A\n",
            " 29%|██▉       | 61/207 [00:00<00:02, 62.43it/s]\u001b[A\n",
            " 33%|███▎      | 69/207 [00:01<00:02, 65.56it/s]\u001b[A\n",
            " 37%|███▋      | 77/207 [00:01<00:01, 67.89it/s]\u001b[A\n",
            " 41%|████      | 85/207 [00:01<00:01, 70.62it/s]\u001b[A\n",
            " 45%|████▍     | 93/207 [00:01<00:01, 59.99it/s]\u001b[A\n",
            " 49%|████▉     | 101/207 [00:01<00:01, 63.80it/s]\u001b[A\n",
            " 53%|█████▎    | 109/207 [00:01<00:01, 66.38it/s]\u001b[A\n",
            " 57%|█████▋    | 117/207 [00:01<00:01, 68.26it/s]\u001b[A\n",
            " 60%|██████    | 125/207 [00:01<00:01, 69.76it/s]\u001b[A\n",
            " 64%|██████▍   | 133/207 [00:02<00:01, 58.62it/s]\u001b[A\n",
            " 68%|██████▊   | 141/207 [00:02<00:01, 63.02it/s]\u001b[A\n",
            " 72%|███████▏  | 150/207 [00:02<00:00, 67.92it/s]\u001b[A\n",
            " 76%|███████▋  | 158/207 [00:02<00:00, 71.05it/s]\u001b[A\n",
            " 80%|████████  | 166/207 [00:02<00:00, 72.96it/s]\u001b[A\n",
            " 84%|████████▍ | 174/207 [00:02<00:00, 62.32it/s]\u001b[A\n",
            " 88%|████████▊ | 182/207 [00:02<00:00, 66.65it/s]\u001b[A\n",
            " 92%|█████████▏| 191/207 [00:02<00:00, 70.66it/s]\u001b[A\n",
            " 96%|█████████▌| 199/207 [00:03<00:00, 71.13it/s]\u001b[A\n",
            "100%|██████████| 207/207 [00:03<00:00, 66.54it/s]\n",
            " 75%|███████▌  | 15/20 [00:47<00:15,  3.14s/it]\n",
            "  0%|          | 0/207 [00:00<?, ?it/s]\u001b[A\n",
            "  3%|▎         | 7/207 [00:00<00:02, 68.81it/s]\u001b[A\n",
            "  7%|▋         | 14/207 [00:00<00:03, 50.92it/s]\u001b[A\n",
            " 11%|█         | 22/207 [00:00<00:03, 61.13it/s]\u001b[A\n",
            " 15%|█▍        | 31/207 [00:00<00:02, 69.20it/s]\u001b[A\n",
            " 19%|█▉        | 39/207 [00:00<00:02, 71.89it/s]\u001b[A\n",
            " 23%|██▎       | 48/207 [00:00<00:02, 74.89it/s]\u001b[A\n",
            " 27%|██▋       | 56/207 [00:00<00:02, 61.62it/s]\u001b[A\n",
            " 31%|███       | 64/207 [00:00<00:02, 65.67it/s]\u001b[A\n",
            " 35%|███▌      | 73/207 [00:01<00:01, 70.61it/s]\u001b[A\n",
            " 40%|███▉      | 82/207 [00:01<00:01, 73.24it/s]\u001b[A\n",
            " 43%|████▎     | 90/207 [00:01<00:01, 74.55it/s]\u001b[A\n",
            " 47%|████▋     | 98/207 [00:01<00:01, 63.37it/s]\u001b[A\n",
            " 51%|█████     | 106/207 [00:01<00:01, 66.96it/s]\u001b[A\n",
            " 56%|█████▌    | 115/207 [00:01<00:01, 71.01it/s]\u001b[A\n",
            " 59%|█████▉    | 123/207 [00:01<00:01, 73.33it/s]\u001b[A\n",
            " 63%|██████▎   | 131/207 [00:01<00:01, 73.72it/s]\u001b[A\n",
            " 67%|██████▋   | 139/207 [00:02<00:01, 62.83it/s]\u001b[A\n",
            " 71%|███████   | 147/207 [00:02<00:00, 66.09it/s]\u001b[A\n",
            " 75%|███████▍  | 155/207 [00:02<00:00, 69.15it/s]\u001b[A\n",
            " 79%|███████▊  | 163/207 [00:02<00:00, 71.96it/s]\u001b[A\n",
            " 83%|████████▎ | 171/207 [00:02<00:00, 73.25it/s]\u001b[A\n",
            " 86%|████████▋ | 179/207 [00:02<00:00, 62.24it/s]\u001b[A\n",
            " 91%|█████████ | 188/207 [00:02<00:00, 67.46it/s]\u001b[A\n",
            " 95%|█████████▍| 196/207 [00:02<00:00, 69.99it/s]\u001b[A\n",
            "100%|██████████| 207/207 [00:03<00:00, 68.48it/s]\n",
            " 80%|████████  | 16/20 [00:50<00:12,  3.11s/it]\n",
            "  0%|          | 0/207 [00:00<?, ?it/s]\u001b[A\n",
            "  4%|▍         | 8/207 [00:00<00:02, 71.78it/s]\u001b[A\n",
            "  8%|▊         | 16/207 [00:00<00:03, 54.32it/s]\u001b[A\n",
            " 12%|█▏        | 25/207 [00:00<00:02, 64.88it/s]\u001b[A\n",
            " 16%|█▌        | 33/207 [00:00<00:02, 69.57it/s]\u001b[A\n",
            " 20%|█▉        | 41/207 [00:00<00:02, 72.77it/s]\u001b[A\n",
            " 24%|██▎       | 49/207 [00:00<00:02, 74.44it/s]\u001b[A\n",
            " 28%|██▊       | 57/207 [00:00<00:02, 60.97it/s]\u001b[A\n",
            " 31%|███▏      | 65/207 [00:00<00:02, 65.40it/s]\u001b[A\n",
            " 35%|███▌      | 73/207 [00:01<00:01, 69.02it/s]\u001b[A\n",
            " 39%|███▉      | 81/207 [00:01<00:01, 71.93it/s]\u001b[A\n",
            " 43%|████▎     | 89/207 [00:01<00:01, 73.90it/s]\u001b[A\n",
            " 47%|████▋     | 97/207 [00:01<00:01, 75.37it/s]\u001b[A\n",
            " 51%|█████     | 105/207 [00:01<00:01, 63.10it/s]\u001b[A\n",
            " 55%|█████▍    | 113/207 [00:01<00:01, 67.28it/s]\u001b[A\n",
            " 58%|█████▊    | 121/207 [00:01<00:01, 70.57it/s]\u001b[A\n",
            " 62%|██████▏   | 129/207 [00:01<00:01, 73.04it/s]\u001b[A\n",
            " 66%|██████▌   | 137/207 [00:01<00:00, 73.46it/s]\u001b[A\n",
            " 70%|███████   | 145/207 [00:02<00:01, 61.53it/s]\u001b[A\n",
            " 74%|███████▍  | 153/207 [00:02<00:00, 64.60it/s]\u001b[A\n",
            " 78%|███████▊  | 161/207 [00:02<00:00, 66.78it/s]\u001b[A\n",
            " 82%|████████▏ | 169/207 [00:02<00:00, 70.06it/s]\u001b[A\n",
            " 86%|████████▌ | 177/207 [00:02<00:00, 72.35it/s]\u001b[A\n",
            " 89%|████████▉ | 185/207 [00:02<00:00, 62.32it/s]\u001b[A\n",
            " 93%|█████████▎| 193/207 [00:02<00:00, 66.18it/s]\u001b[A\n",
            "100%|██████████| 207/207 [00:03<00:00, 68.01it/s]\n",
            " 85%|████████▌ | 17/20 [00:53<00:09,  3.09s/it]\n",
            "  0%|          | 0/207 [00:00<?, ?it/s]\u001b[A\n",
            "  4%|▍         | 8/207 [00:00<00:02, 73.78it/s]\u001b[A\n",
            "  8%|▊         | 17/207 [00:00<00:02, 78.05it/s]\u001b[A\n",
            " 12%|█▏        | 25/207 [00:00<00:03, 59.80it/s]\u001b[A\n",
            " 16%|█▌        | 33/207 [00:00<00:02, 64.56it/s]\u001b[A\n",
            " 20%|█▉        | 41/207 [00:00<00:02, 68.65it/s]\u001b[A\n",
            " 24%|██▎       | 49/207 [00:00<00:02, 70.19it/s]\u001b[A\n",
            " 28%|██▊       | 57/207 [00:00<00:02, 72.60it/s]\u001b[A\n",
            " 31%|███▏      | 65/207 [00:01<00:02, 59.50it/s]\u001b[A\n",
            " 36%|███▌      | 74/207 [00:01<00:02, 65.38it/s]\u001b[A\n",
            " 40%|████      | 83/207 [00:01<00:01, 70.02it/s]\u001b[A\n",
            " 44%|████▍     | 91/207 [00:01<00:01, 72.63it/s]\u001b[A\n",
            " 48%|████▊     | 99/207 [00:01<00:01, 74.51it/s]\u001b[A\n",
            " 52%|█████▏    | 107/207 [00:01<00:01, 63.43it/s]\u001b[A\n",
            " 56%|█████▌    | 115/207 [00:01<00:01, 67.51it/s]\u001b[A\n",
            " 60%|█████▉    | 124/207 [00:01<00:01, 71.89it/s]\u001b[A\n",
            " 64%|██████▍   | 132/207 [00:01<00:01, 73.55it/s]\u001b[A\n",
            " 68%|██████▊   | 140/207 [00:02<00:00, 74.73it/s]\u001b[A\n",
            " 71%|███████▏  | 148/207 [00:02<00:00, 62.86it/s]\u001b[A\n",
            " 75%|███████▌  | 156/207 [00:02<00:00, 67.03it/s]\u001b[A\n",
            " 80%|███████▉  | 165/207 [00:02<00:00, 70.94it/s]\u001b[A\n",
            " 84%|████████▎ | 173/207 [00:02<00:00, 73.21it/s]\u001b[A\n",
            " 88%|████████▊ | 182/207 [00:02<00:00, 76.13it/s]\u001b[A\n",
            " 92%|█████████▏| 190/207 [00:02<00:00, 64.53it/s]\u001b[A\n",
            " 96%|█████████▌| 199/207 [00:02<00:00, 68.81it/s]\u001b[A\n",
            "100%|██████████| 207/207 [00:03<00:00, 68.82it/s]\n",
            " 90%|█████████ | 18/20 [00:56<00:06,  3.07s/it]\n",
            "  0%|          | 0/207 [00:00<?, ?it/s]\u001b[A\n",
            "  4%|▍         | 8/207 [00:00<00:02, 72.00it/s]\u001b[A\n",
            "  8%|▊         | 16/207 [00:00<00:02, 75.73it/s]\u001b[A\n",
            " 12%|█▏        | 24/207 [00:00<00:03, 59.35it/s]\u001b[A\n",
            " 15%|█▌        | 32/207 [00:00<00:02, 64.22it/s]\u001b[A\n",
            " 19%|█▉        | 40/207 [00:00<00:02, 68.90it/s]\u001b[A\n",
            " 23%|██▎       | 48/207 [00:00<00:02, 71.49it/s]\u001b[A\n",
            " 27%|██▋       | 56/207 [00:00<00:02, 72.21it/s]\u001b[A\n",
            " 31%|███       | 64/207 [00:00<00:02, 60.97it/s]\u001b[A\n",
            " 35%|███▌      | 73/207 [00:01<00:02, 66.65it/s]\u001b[A\n",
            " 40%|███▉      | 82/207 [00:01<00:01, 71.17it/s]\u001b[A\n",
            " 43%|████▎     | 90/207 [00:01<00:01, 73.20it/s]\u001b[A\n",
            " 47%|████▋     | 98/207 [00:01<00:01, 74.79it/s]\u001b[A\n",
            " 51%|█████     | 106/207 [00:01<00:01, 63.69it/s]\u001b[A\n",
            " 55%|█████▌    | 114/207 [00:01<00:01, 67.71it/s]\u001b[A\n",
            " 59%|█████▉    | 122/207 [00:01<00:01, 70.63it/s]\u001b[A\n",
            " 63%|██████▎   | 130/207 [00:01<00:01, 72.85it/s]\u001b[A\n",
            " 67%|██████▋   | 138/207 [00:01<00:00, 73.30it/s]\u001b[A\n",
            " 71%|███████   | 147/207 [00:02<00:00, 76.03it/s]\u001b[A\n",
            " 75%|███████▍  | 155/207 [00:02<00:00, 64.22it/s]\u001b[A\n",
            " 79%|███████▉  | 164/207 [00:02<00:00, 69.00it/s]\u001b[A\n",
            " 83%|████████▎ | 172/207 [00:02<00:00, 71.07it/s]\u001b[A\n",
            " 87%|████████▋ | 181/207 [00:02<00:00, 74.02it/s]\u001b[A\n",
            " 91%|█████████▏| 189/207 [00:02<00:00, 74.94it/s]\u001b[A\n",
            " 95%|█████████▌| 197/207 [00:02<00:00, 64.06it/s]\u001b[A\n",
            "100%|██████████| 207/207 [00:03<00:00, 68.67it/s]\n",
            " 95%|█████████▌| 19/20 [00:59<00:03,  3.06s/it]\n",
            "  0%|          | 0/207 [00:00<?, ?it/s]\u001b[A\n",
            "  3%|▎         | 7/207 [00:00<00:03, 65.28it/s]\u001b[A\n",
            "  7%|▋         | 15/207 [00:00<00:02, 73.49it/s]\u001b[A\n",
            " 11%|█         | 23/207 [00:00<00:02, 75.39it/s]\u001b[A\n",
            " 15%|█▍        | 31/207 [00:00<00:02, 59.36it/s]\u001b[A\n",
            " 19%|█▉        | 39/207 [00:00<00:02, 65.05it/s]\u001b[A\n",
            " 23%|██▎       | 48/207 [00:00<00:02, 70.21it/s]\u001b[A\n",
            " 27%|██▋       | 56/207 [00:00<00:02, 73.02it/s]\u001b[A\n",
            " 31%|███▏      | 65/207 [00:00<00:01, 75.45it/s]\u001b[A\n",
            " 35%|███▌      | 73/207 [00:01<00:02, 62.60it/s]\u001b[A\n",
            " 39%|███▉      | 81/207 [00:01<00:01, 66.85it/s]\u001b[A\n",
            " 43%|████▎     | 89/207 [00:01<00:01, 69.98it/s]\u001b[A\n",
            " 47%|████▋     | 97/207 [00:01<00:01, 72.50it/s]\u001b[A\n",
            " 51%|█████     | 106/207 [00:01<00:01, 75.32it/s]\u001b[A\n",
            " 55%|█████▌    | 114/207 [00:01<00:01, 63.66it/s]\u001b[A\n",
            " 59%|█████▉    | 123/207 [00:01<00:01, 68.66it/s]\u001b[A\n",
            " 63%|██████▎   | 131/207 [00:01<00:01, 71.52it/s]\u001b[A\n",
            " 67%|██████▋   | 139/207 [00:02<00:00, 71.18it/s]\u001b[A\n",
            " 71%|███████   | 147/207 [00:02<00:00, 73.32it/s]\u001b[A\n",
            " 75%|███████▍  | 155/207 [00:02<00:00, 63.61it/s]\u001b[A\n",
            " 79%|███████▉  | 164/207 [00:02<00:00, 68.76it/s]\u001b[A\n",
            " 83%|████████▎ | 172/207 [00:02<00:00, 69.66it/s]\u001b[A\n",
            " 87%|████████▋ | 180/207 [00:02<00:00, 71.82it/s]\u001b[A\n",
            " 91%|█████████▏| 189/207 [00:02<00:00, 75.33it/s]\u001b[A\n",
            " 95%|█████████▌| 197/207 [00:02<00:00, 64.52it/s]\u001b[A\n",
            "100%|██████████| 207/207 [00:03<00:00, 68.53it/s]\n",
            "100%|██████████| 20/20 [01:02<00:00,  3.11s/it]\n"
          ]
        }
      ],
      "source": [
        "from tqdm import tqdm\n",
        "import torch.nn.functional as F\n",
        "num_epochs = 20\n",
        "\n",
        "\n",
        "losses = []\n",
        "kl_divs = []\n",
        "for epoch in tqdm(range(num_epochs)):\n",
        "    epoch_losses = []\n",
        "    epoch_kl_divs = []\n",
        "    for i, (input_, target) in enumerate(tqdm(data_loader)):\n",
        "        input_ = Variable(input_.type(FloatTensor)).to(device)\n",
        "        target = Variable(target.type(LongTensor)).to(device)\n",
        "\n",
        "        batch_size = input_.shape[0]\n",
        "\n",
        "        # Adversarial ground truths\n",
        "        valid = Variable(FloatTensor(batch_size, 1).fill_(1.0), requires_grad=False)\n",
        "        fake = Variable(FloatTensor(batch_size, 1).fill_(0.0), requires_grad=False)\n",
        "\n",
        "        # -----------------\n",
        "        #  Train Generator\n",
        "        # -----------------\n",
        "\n",
        "        optimizer_G.zero_grad()\n",
        "\n",
        "        # Sample noise and labels as generator input\n",
        "        z = Variable(FloatTensor(np.random.normal(0, 1, (batch_size, latent_dim))))\n",
        "        gen_labels = Variable(LongTensor(np.random.randint(0, 2,batch_size)))\n",
        "\n",
        "        # Generate a batch of images\n",
        "        gen_imgs = generator(z, gen_labels)\n",
        "\n",
        "        # Loss measures generator's ability to fool the discriminator\n",
        "        validity = discriminator(gen_imgs, gen_labels)\n",
        "        g_loss = adversarial_loss(validity, valid)\n",
        "\n",
        "        g_loss.backward()\n",
        "        optimizer_G.step()\n",
        "\n",
        "        # ---------------------\n",
        "        #  Train Discriminator\n",
        "        # ---------------------\n",
        "\n",
        "        optimizer_D.zero_grad()\n",
        "\n",
        "        # Loss for real images\n",
        "        validity_real = discriminator(input_, target)\n",
        "        d_real_loss = adversarial_loss(validity_real, valid)\n",
        "\n",
        "        # Loss for fake images\n",
        "        validity_fake = discriminator(gen_imgs.detach(), gen_labels)\n",
        "        d_fake_loss = adversarial_loss(validity_fake, fake)\n",
        "\n",
        "        # Total discriminator loss\n",
        "        d_loss = (d_real_loss + d_fake_loss) / 2\n",
        "\n",
        "        d_loss.backward()\n",
        "        optimizer_D.step()\n",
        "        \n",
        "        epoch_losses.append(g_loss.item() + d_loss.item())\n",
        "        epoch_kl_divs.append(F.kl_div(gen_imgs.detach().cpu(), input_.detach().cpu()))\n",
        "        \n",
        "    losses.append(np.mean(epoch_losses))\n",
        "    kl_divs.append(np.mean(epoch_kl_divs))"
      ]
    },
    {
      "cell_type": "code",
      "execution_count": 16,
      "metadata": {
        "id": "xcm5xlCfD_Y3",
        "colab": {
          "base_uri": "https://localhost:8080/",
          "height": 282
        },
        "outputId": "e73cf983-88ee-4589-94d7-e9eb9aed71aa"
      },
      "outputs": [
        {
          "output_type": "execute_result",
          "data": {
            "text/plain": [
              "[<matplotlib.lines.Line2D at 0x7f289196f0d0>]"
            ]
          },
          "metadata": {},
          "execution_count": 16
        },
        {
          "output_type": "display_data",
          "data": {
            "text/plain": [
              "<Figure size 432x288 with 1 Axes>"
            ],
            "image/png": "[encoded data removed]"
          },
          "metadata": {
            "needs_background": "light"
          }
        }
      ],
      "source": [
        "from matplotlib import pyplot as plt\n",
        "\n",
        "plt.plot(losses) \n",
        "\n"
      ]
    },
    {
      "cell_type": "markdown",
      "source": [
        "Yeah , losses not so good but remember we train just in 20 epoch , then author recommend to use 2000"
      ],
      "metadata": {
        "id": "ozD3y8ZGrEJB"
      }
    },
    {
      "cell_type": "code",
      "source": [
        ""
      ],
      "metadata": {
        "id": "HUeg39nLoxTB"
      },
      "execution_count": null,
      "outputs": []
    },
    {
      "cell_type": "code",
      "execution_count": 17,
      "metadata": {
        "id": "QNXHMTu7NsQJ",
        "colab": {
          "base_uri": "https://localhost:8080/",
          "height": 282
        },
        "outputId": "f5b0fbb4-b2ba-43fd-caad-66f839e4d725"
      },
      "outputs": [
        {
          "output_type": "execute_result",
          "data": {
            "text/plain": [
              "[<matplotlib.lines.Line2D at 0x7f2891988d10>]"
            ]
          },
          "metadata": {},
          "execution_count": 17
        },
        {
          "output_type": "display_data",
          "data": {
            "text/plain": [
              "<Figure size 432x288 with 1 Axes>"
            ],
            "image/png": "[encoded data removed]"
          },
          "metadata": {
            "needs_background": "light"
          }
        }
      ],
      "source": [
        "plt.plot(kl_divs) "
      ]
    },
    {
      "cell_type": "code",
      "source": [
        "y_train.hist()\n"
      ],
      "metadata": {
        "id": "TNHJkhXERb-u",
        "colab": {
          "base_uri": "https://localhost:8080/",
          "height": 282
        },
        "outputId": "5c9a7b6a-0ea6-4f21-d3a2-5749b050f631"
      },
      "execution_count": 18,
      "outputs": [
        {
          "output_type": "execute_result",
          "data": {
            "text/plain": [
              "<matplotlib.axes._subplots.AxesSubplot at 0x7f28927c9b90>"
            ]
          },
          "metadata": {},
          "execution_count": 18
        },
        {
          "output_type": "display_data",
          "data": {
            "text/plain": [
              "<Figure size 432x288 with 1 Axes>"
            ],
            "image/png": "[encoded data removed]"
          },
          "metadata": {
            "needs_background": "light"
          }
        }
      ]
    },
    {
      "cell_type": "markdown",
      "source": [
        "### So have some imbalance - generate some data for label 0 and compare result with begining dataset"
      ],
      "metadata": {
        "id": "1AtHu0mnpsWo"
      }
    },
    {
      "cell_type": "code",
      "source": [
        "np.unique(y_train, return_counts=True)"
      ],
      "metadata": {
        "id": "jLoTkgLxYzfg",
        "outputId": "0a459e4d-235b-4d5e-e139-660534dc30c8",
        "colab": {
          "base_uri": "https://localhost:8080/"
        }
      },
      "execution_count": 19,
      "outputs": [
        {
          "output_type": "execute_result",
          "data": {
            "text/plain": [
              "(array([0, 1]), array([ 74325, 131813]))"
            ]
          },
          "metadata": {},
          "execution_count": 19
        }
      ]
    },
    {
      "cell_type": "code",
      "source": [
        "n_disbalanced = 131813 - 74325\n",
        "n_disbalanced"
      ],
      "metadata": {
        "id": "W4IkDIJ-cd4q",
        "outputId": "90a5b2e6-f124-41f7-d6af-0da6692e6839",
        "colab": {
          "base_uri": "https://localhost:8080/"
        }
      },
      "execution_count": 20,
      "outputs": [
        {
          "output_type": "execute_result",
          "data": {
            "text/plain": [
              "57488"
            ]
          },
          "metadata": {},
          "execution_count": 20
        }
      ]
    },
    {
      "cell_type": "code",
      "source": [
        "from sklearn.ensemble import RandomForestClassifier\n",
        "from interpret.glassbox import ExplainableBoostingClassifier\n",
        "from sklearn.neural_network import MLPClassifier "
      ],
      "metadata": {
        "id": "YaN2qIbwc1oH"
      },
      "execution_count": 21,
      "outputs": []
    },
    {
      "cell_type": "code",
      "source": [
        "z = Variable(FloatTensor(np.random.normal(0, 1, (n_disbalanced, latent_dim))))\n",
        "gen_labels = Variable(LongTensor(np.zeros(n_disbalanced)))\n",
        "\n",
        "with torch.no_grad():\n",
        "    # Generate a batch of images\n",
        "    gen_outputs = generator(z, gen_labels).cpu().numpy()\n",
        "\n",
        "\n",
        "\n",
        "extended_train_x = np.vstack((X_train, gen_outputs))\n",
        "extended_train_y = np.hstack((y_train, np.zeros(n_disbalanced)))    "
      ],
      "metadata": {
        "id": "qJo7QoWnc_FI"
      },
      "execution_count": 22,
      "outputs": []
    },
    {
      "cell_type": "code",
      "source": [
        "from sklearn.metrics import classification_report \n",
        "\n",
        "classes = [ RandomForestClassifier(), \n",
        "               ExplainableBoostingClassifier(),\n",
        "                MLPClassifier(hidden_layer_sizes=(input_dim))] \n",
        "for class_ in classes:\n",
        "    print(class_)\n",
        "    class_.fit(X_train, y_train)\n",
        "    y_pred = class_.predict(X_test)\n",
        "    print(classification_report(y_test, y_pred))"
      ],
      "metadata": {
        "id": "h8sL9MetiHwF",
        "outputId": "2160a1de-e84f-48bb-a4be-7f85f5a7eb05",
        "colab": {
          "base_uri": "https://localhost:8080/"
        }
      },
      "execution_count": 25,
      "outputs": [
        {
          "output_type": "stream",
          "name": "stdout",
          "text": [
            "RandomForestClassifier()\n",
            "              precision    recall  f1-score   support\n",
            "\n",
            "           0       1.00      1.00      1.00     18675\n",
            "           1       1.00      1.00      1.00     32860\n",
            "\n",
            "    accuracy                           1.00     51535\n",
            "   macro avg       1.00      1.00      1.00     51535\n",
            "weighted avg       1.00      1.00      1.00     51535\n",
            "\n",
            "ExplainableBoostingClassifier()\n",
            "              precision    recall  f1-score   support\n",
            "\n",
            "           0       1.00      1.00      1.00     18675\n",
            "           1       1.00      1.00      1.00     32860\n",
            "\n",
            "    accuracy                           1.00     51535\n",
            "   macro avg       1.00      1.00      1.00     51535\n",
            "weighted avg       1.00      1.00      1.00     51535\n",
            "\n",
            "MLPClassifier(hidden_layer_sizes=48)\n",
            "              precision    recall  f1-score   support\n",
            "\n",
            "           0       1.00      1.00      1.00     18675\n",
            "           1       1.00      1.00      1.00     32860\n",
            "\n",
            "    accuracy                           1.00     51535\n",
            "   macro avg       1.00      1.00      1.00     51535\n",
            "weighted avg       1.00      1.00      1.00     51535\n",
            "\n"
          ]
        }
      ]
    },
    {
      "cell_type": "code",
      "source": [
        "\n",
        "\n",
        "\n",
        "\n",
        "\n",
        "print(classes[2])\n",
        "classes[2].fit(extended_train_x, extended_train_y)\n",
        "y_pred = classes[2].predict(X_test)\n",
        "print(classification_report(y_test, y_pred))"
      ],
      "metadata": {
        "id": "86VoESr1jMJg"
      },
      "execution_count": null,
      "outputs": []
    },
    {
      "cell_type": "code",
      "source": [
        "y_pred = classes[2].predict(X_test)\n",
        "print(classification_report(y_test, y_pred))"
      ],
      "metadata": {
        "id": "TQ4IXK4EnoEo",
        "outputId": "aac97488-c6dd-4312-bf17-bf8187fb119a",
        "colab": {
          "base_uri": "https://localhost:8080/"
        }
      },
      "execution_count": 36,
      "outputs": [
        {
          "output_type": "stream",
          "name": "stdout",
          "text": [
            "              precision    recall  f1-score   support\n",
            "\n",
            "           0       1.00      1.00      1.00     18675\n",
            "           1       1.00      1.00      1.00     32860\n",
            "\n",
            "    accuracy                           1.00     51535\n",
            "   macro avg       1.00      1.00      1.00     51535\n",
            "weighted avg       1.00      1.00      1.00     51535\n",
            "\n"
          ]
        }
      ]
    },
    {
      "cell_type": "code",
      "source": [
        "print(classes[0])\n",
        "classes[0].fit(extended_train_x, extended_train_y)\n",
        "y_pred = classes[2].predict(X_test)\n",
        "print(classification_report(y_test, y_pred))\n",
        "y_pred = classes[0].predict(X_test)\n",
        "print(classification_report(y_test, y_pred))"
      ],
      "metadata": {
        "id": "Far5SplnnELV",
        "outputId": "91141742-d201-4731-d5ef-9020a82b02e1",
        "colab": {
          "base_uri": "https://localhost:8080/"
        }
      },
      "execution_count": 37,
      "outputs": [
        {
          "output_type": "stream",
          "name": "stdout",
          "text": [
            "RandomForestClassifier()\n",
            "              precision    recall  f1-score   support\n",
            "\n",
            "           0       1.00      1.00      1.00     18675\n",
            "           1       1.00      1.00      1.00     32860\n",
            "\n",
            "    accuracy                           1.00     51535\n",
            "   macro avg       1.00      1.00      1.00     51535\n",
            "weighted avg       1.00      1.00      1.00     51535\n",
            "\n",
            "              precision    recall  f1-score   support\n",
            "\n",
            "           0       1.00      1.00      1.00     18675\n",
            "           1       1.00      1.00      1.00     32860\n",
            "\n",
            "    accuracy                           1.00     51535\n",
            "   macro avg       1.00      1.00      1.00     51535\n",
            "weighted avg       1.00      1.00      1.00     51535\n",
            "\n"
          ]
        }
      ]
    },
    {
      "cell_type": "markdown",
      "source": [
        "### Result:  so  actually our performance good without balanced ) and it diffucult compare it here but we can use less data for training ML models and check improvement"
      ],
      "metadata": {
        "id": "LpJXQeJup7j_"
      }
    },
    {
      "cell_type": "code",
      "source": [
        ""
      ],
      "metadata": {
        "id": "RT7zW5V-nYig"
      },
      "execution_count": null,
      "outputs": []
    }
  ],
  "metadata": {
    "accelerator": "GPU",
    "colab": {
      "name": "CS2.ipynb",
      "provenance": []
    },
    "kernelspec": {
      "display_name": "Python 3",
      "name": "python3"
    },
    "language_info": {
      "name": "python"
    }
  },
  "nbformat": 4,
  "nbformat_minor": 0
}